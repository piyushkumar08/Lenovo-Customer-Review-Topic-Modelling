{
 "cells": [
  {
   "cell_type": "markdown",
   "id": "30e18058",
   "metadata": {},
   "source": [
    "### Name: Piyush Kumar\n",
    "### NLP Project"
   ]
  },
  {
   "cell_type": "code",
   "execution_count": 1,
   "id": "23765940",
   "metadata": {},
   "outputs": [],
   "source": [
    "import pandas as pd\n",
    "\n",
    "df = pd.read_csv(\"K8 Reviews v0.2.csv\")"
   ]
  },
  {
   "cell_type": "code",
   "execution_count": 2,
   "id": "aac8e941",
   "metadata": {},
   "outputs": [
    {
     "data": {
      "text/html": [
       "<div>\n",
       "<style scoped>\n",
       "    .dataframe tbody tr th:only-of-type {\n",
       "        vertical-align: middle;\n",
       "    }\n",
       "\n",
       "    .dataframe tbody tr th {\n",
       "        vertical-align: top;\n",
       "    }\n",
       "\n",
       "    .dataframe thead th {\n",
       "        text-align: right;\n",
       "    }\n",
       "</style>\n",
       "<table border=\"1\" class=\"dataframe\">\n",
       "  <thead>\n",
       "    <tr style=\"text-align: right;\">\n",
       "      <th></th>\n",
       "      <th>sentiment</th>\n",
       "      <th>review</th>\n",
       "    </tr>\n",
       "  </thead>\n",
       "  <tbody>\n",
       "    <tr>\n",
       "      <th>0</th>\n",
       "      <td>1</td>\n",
       "      <td>Good but need updates and improvements</td>\n",
       "    </tr>\n",
       "    <tr>\n",
       "      <th>1</th>\n",
       "      <td>0</td>\n",
       "      <td>Worst mobile i have bought ever, Battery is dr...</td>\n",
       "    </tr>\n",
       "    <tr>\n",
       "      <th>2</th>\n",
       "      <td>1</td>\n",
       "      <td>when I will get my 10% cash back.... its alrea...</td>\n",
       "    </tr>\n",
       "    <tr>\n",
       "      <th>3</th>\n",
       "      <td>1</td>\n",
       "      <td>Good</td>\n",
       "    </tr>\n",
       "    <tr>\n",
       "      <th>4</th>\n",
       "      <td>0</td>\n",
       "      <td>The worst phone everThey have changed the last...</td>\n",
       "    </tr>\n",
       "    <tr>\n",
       "      <th>5</th>\n",
       "      <td>0</td>\n",
       "      <td>Only I'm telling don't buyI'm totally disappoi...</td>\n",
       "    </tr>\n",
       "    <tr>\n",
       "      <th>6</th>\n",
       "      <td>1</td>\n",
       "      <td>Phone is awesome. But while charging, it heats...</td>\n",
       "    </tr>\n",
       "    <tr>\n",
       "      <th>7</th>\n",
       "      <td>0</td>\n",
       "      <td>The battery level has worn down</td>\n",
       "    </tr>\n",
       "  </tbody>\n",
       "</table>\n",
       "</div>"
      ],
      "text/plain": [
       "   sentiment                                             review\n",
       "0          1             Good but need updates and improvements\n",
       "1          0  Worst mobile i have bought ever, Battery is dr...\n",
       "2          1  when I will get my 10% cash back.... its alrea...\n",
       "3          1                                               Good\n",
       "4          0  The worst phone everThey have changed the last...\n",
       "5          0  Only I'm telling don't buyI'm totally disappoi...\n",
       "6          1  Phone is awesome. But while charging, it heats...\n",
       "7          0                    The battery level has worn down"
      ]
     },
     "execution_count": 2,
     "metadata": {},
     "output_type": "execute_result"
    }
   ],
   "source": [
    "df.head(8)"
   ]
  },
  {
   "cell_type": "markdown",
   "id": "00bd123f",
   "metadata": {},
   "source": [
    "#### Normalize casings for the review text and extract the text into a list for easier manipulation."
   ]
  },
  {
   "cell_type": "code",
   "execution_count": 3,
   "id": "742dab4e",
   "metadata": {},
   "outputs": [],
   "source": [
    "review = df['review'].str.lower().to_list()"
   ]
  },
  {
   "cell_type": "code",
   "execution_count": 4,
   "id": "35b004e5",
   "metadata": {},
   "outputs": [
    {
     "data": {
      "text/plain": [
       "['good but need updates and improvements',\n",
       " \"worst mobile i have bought ever, battery is draining like hell, backup is only 6 to 7 hours with internet uses, even if i put mobile idle its getting discharged.this is biggest lie from amazon & lenove which is not at all expected, they are making full by saying that battery is 4000mah & booster charger is fake, it takes at least 4 to 5 hours to be fully charged.don't know how lenovo will survive by making full of us.please don;t go for this else you will regret like me.\",\n",
       " 'when i will get my 10% cash back.... its already 15 january..',\n",
       " 'good',\n",
       " 'the worst phone everthey have changed the last phone but the problem is still same and the amazon is not returning the phone .highly disappointing of amazon']"
      ]
     },
     "execution_count": 4,
     "metadata": {},
     "output_type": "execute_result"
    }
   ],
   "source": [
    "review[:5]"
   ]
  },
  {
   "cell_type": "code",
   "execution_count": 5,
   "id": "9f0defb1",
   "metadata": {},
   "outputs": [],
   "source": [
    "#Special character and number removal\n",
    "import re\n",
    "\n",
    "review = [re.sub(\"[.,|:='~^0-9\\\\\\]\", \" \", item) for item in review]"
   ]
  },
  {
   "cell_type": "markdown",
   "id": "ca6a4f10",
   "metadata": {},
   "source": [
    "#### Tokenizing the reviews using NLTKs word_tokenize function."
   ]
  },
  {
   "cell_type": "code",
   "execution_count": 6,
   "id": "182dcac3",
   "metadata": {},
   "outputs": [
    {
     "name": "stdout",
     "output_type": "stream",
     "text": [
      "[['good', 'but', 'need', 'updates', 'and', 'improvements'], ['worst', 'mobile', 'i', 'have', 'bought', 'ever', 'battery', 'is', 'draining', 'like', 'hell', 'backup', 'is', 'only', 'to', 'hours', 'with', 'internet', 'uses', 'even', 'if', 'i', 'put', 'mobile', 'idle', 'its', 'getting', 'discharged', 'this', 'is', 'biggest', 'lie', 'from', 'amazon', '&', 'lenove', 'which', 'is', 'not', 'at', 'all', 'expected', 'they', 'are', 'making', 'full', 'by', 'saying', 'that', 'battery', 'is', 'mah', '&', 'booster', 'charger', 'is', 'fake', 'it', 'takes', 'at', 'least', 'to', 'hours', 'to', 'be', 'fully', 'charged', 'don', 't', 'know', 'how', 'lenovo', 'will', 'survive', 'by', 'making', 'full', 'of', 'us', 'please', 'don', ';', 't', 'go', 'for', 'this', 'else', 'you', 'will', 'regret', 'like', 'me'], ['when', 'i', 'will', 'get', 'my', '%', 'cash', 'back', 'its', 'already', 'january'], ['good'], ['the', 'worst', 'phone', 'everthey', 'have', 'changed', 'the', 'last', 'phone', 'but', 'the', 'problem', 'is', 'still', 'same', 'and', 'the', 'amazon', 'is', 'not', 'returning', 'the', 'phone', 'highly', 'disappointing', 'of', 'amazon']]\n"
     ]
    }
   ],
   "source": [
    "from nltk import word_tokenize\n",
    "\n",
    "review_tokens = [word_tokenize(item) for item in review]\n",
    "print(review_tokens[:5])"
   ]
  },
  {
   "cell_type": "markdown",
   "id": "66557fbb",
   "metadata": {},
   "source": [
    "#### POS tagging on each sentence using the NLTK POS tagger."
   ]
  },
  {
   "cell_type": "code",
   "execution_count": 7,
   "id": "b013a3ae",
   "metadata": {},
   "outputs": [
    {
     "name": "stdout",
     "output_type": "stream",
     "text": [
      "[[('good', 'JJ'), ('but', 'CC'), ('need', 'VBP'), ('updates', 'NNS'), ('and', 'CC'), ('improvements', 'NNS')], [('worst', 'JJS'), ('mobile', 'NN'), ('i', 'NN'), ('have', 'VBP'), ('bought', 'VBN'), ('ever', 'RB'), ('battery', 'NN'), ('is', 'VBZ'), ('draining', 'VBG'), ('like', 'IN'), ('hell', 'NN'), ('backup', 'NN'), ('is', 'VBZ'), ('only', 'RB'), ('to', 'TO'), ('hours', 'NNS'), ('with', 'IN'), ('internet', 'NN'), ('uses', 'NNS'), ('even', 'RB'), ('if', 'IN'), ('i', 'JJ'), ('put', 'VBP'), ('mobile', 'JJ'), ('idle', 'NN'), ('its', 'PRP$'), ('getting', 'VBG'), ('discharged', 'VBN'), ('this', 'DT'), ('is', 'VBZ'), ('biggest', 'JJS'), ('lie', 'NN'), ('from', 'IN'), ('amazon', 'NN'), ('&', 'CC'), ('lenove', 'NN'), ('which', 'WDT'), ('is', 'VBZ'), ('not', 'RB'), ('at', 'IN'), ('all', 'DT'), ('expected', 'VBN'), ('they', 'PRP'), ('are', 'VBP'), ('making', 'VBG'), ('full', 'JJ'), ('by', 'IN'), ('saying', 'VBG'), ('that', 'DT'), ('battery', 'NN'), ('is', 'VBZ'), ('mah', 'JJ'), ('&', 'CC'), ('booster', 'NN'), ('charger', 'NN'), ('is', 'VBZ'), ('fake', 'JJ'), ('it', 'PRP'), ('takes', 'VBZ'), ('at', 'IN'), ('least', 'JJS'), ('to', 'TO'), ('hours', 'NNS'), ('to', 'TO'), ('be', 'VB'), ('fully', 'RB'), ('charged', 'VBN'), ('don', 'NN'), ('t', 'NN'), ('know', 'VB'), ('how', 'WRB'), ('lenovo', 'JJ'), ('will', 'MD'), ('survive', 'VB'), ('by', 'IN'), ('making', 'VBG'), ('full', 'JJ'), ('of', 'IN'), ('us', 'PRP'), ('please', 'VB'), ('don', 'NN'), (';', ':'), ('t', 'CC'), ('go', 'VB'), ('for', 'IN'), ('this', 'DT'), ('else', 'JJ'), ('you', 'PRP'), ('will', 'MD'), ('regret', 'VB'), ('like', 'IN'), ('me', 'PRP')]]\n"
     ]
    }
   ],
   "source": [
    "from nltk import pos_tag\n",
    "\n",
    "review_postags = [pos_tag(item) for item in review_tokens]\n",
    "print(review_postags[:2])"
   ]
  },
  {
   "cell_type": "code",
   "execution_count": 8,
   "id": "11802be1",
   "metadata": {},
   "outputs": [
    {
     "name": "stdout",
     "output_type": "stream",
     "text": [
      "$: dollar\n",
      "    $ -$ --$ A$ C$ HK$ M$ NZ$ S$ U.S.$ US$\n",
      "'': closing quotation mark\n",
      "    ' ''\n",
      "(: opening parenthesis\n",
      "    ( [ {\n",
      "): closing parenthesis\n",
      "    ) ] }\n",
      ",: comma\n",
      "    ,\n",
      "--: dash\n",
      "    --\n",
      ".: sentence terminator\n",
      "    . ! ?\n",
      ":: colon or ellipsis\n",
      "    : ; ...\n",
      "CC: conjunction, coordinating\n",
      "    & 'n and both but either et for less minus neither nor or plus so\n",
      "    therefore times v. versus vs. whether yet\n",
      "CD: numeral, cardinal\n",
      "    mid-1890 nine-thirty forty-two one-tenth ten million 0.5 one forty-\n",
      "    seven 1987 twenty '79 zero two 78-degrees eighty-four IX '60s .025\n",
      "    fifteen 271,124 dozen quintillion DM2,000 ...\n",
      "DT: determiner\n",
      "    all an another any both del each either every half la many much nary\n",
      "    neither no some such that the them these this those\n",
      "EX: existential there\n",
      "    there\n",
      "FW: foreign word\n",
      "    gemeinschaft hund ich jeux habeas Haementeria Herr K'ang-si vous\n",
      "    lutihaw alai je jour objets salutaris fille quibusdam pas trop Monte\n",
      "    terram fiche oui corporis ...\n",
      "IN: preposition or conjunction, subordinating\n",
      "    astride among uppon whether out inside pro despite on by throughout\n",
      "    below within for towards near behind atop around if like until below\n",
      "    next into if beside ...\n",
      "JJ: adjective or numeral, ordinal\n",
      "    third ill-mannered pre-war regrettable oiled calamitous first separable\n",
      "    ectoplasmic battery-powered participatory fourth still-to-be-named\n",
      "    multilingual multi-disciplinary ...\n",
      "JJR: adjective, comparative\n",
      "    bleaker braver breezier briefer brighter brisker broader bumper busier\n",
      "    calmer cheaper choosier cleaner clearer closer colder commoner costlier\n",
      "    cozier creamier crunchier cuter ...\n",
      "JJS: adjective, superlative\n",
      "    calmest cheapest choicest classiest cleanest clearest closest commonest\n",
      "    corniest costliest crassest creepiest crudest cutest darkest deadliest\n",
      "    dearest deepest densest dinkiest ...\n",
      "LS: list item marker\n",
      "    A A. B B. C C. D E F First G H I J K One SP-44001 SP-44002 SP-44005\n",
      "    SP-44007 Second Third Three Two * a b c d first five four one six three\n",
      "    two\n",
      "MD: modal auxiliary\n",
      "    can cannot could couldn't dare may might must need ought shall should\n",
      "    shouldn't will would\n",
      "NN: noun, common, singular or mass\n",
      "    common-carrier cabbage knuckle-duster Casino afghan shed thermostat\n",
      "    investment slide humour falloff slick wind hyena override subhumanity\n",
      "    machinist ...\n",
      "NNP: noun, proper, singular\n",
      "    Motown Venneboerger Czestochwa Ranzer Conchita Trumplane Christos\n",
      "    Oceanside Escobar Kreisler Sawyer Cougar Yvette Ervin ODI Darryl CTCA\n",
      "    Shannon A.K.C. Meltex Liverpool ...\n",
      "NNPS: noun, proper, plural\n",
      "    Americans Americas Amharas Amityvilles Amusements Anarcho-Syndicalists\n",
      "    Andalusians Andes Andruses Angels Animals Anthony Antilles Antiques\n",
      "    Apache Apaches Apocrypha ...\n",
      "NNS: noun, common, plural\n",
      "    undergraduates scotches bric-a-brac products bodyguards facets coasts\n",
      "    divestitures storehouses designs clubs fragrances averages\n",
      "    subjectivists apprehensions muses factory-jobs ...\n",
      "PDT: pre-determiner\n",
      "    all both half many quite such sure this\n",
      "POS: genitive marker\n",
      "    ' 's\n",
      "PRP: pronoun, personal\n",
      "    hers herself him himself hisself it itself me myself one oneself ours\n",
      "    ourselves ownself self she thee theirs them themselves they thou thy us\n",
      "PRP$: pronoun, possessive\n",
      "    her his mine my our ours their thy your\n",
      "RB: adverb\n",
      "    occasionally unabatingly maddeningly adventurously professedly\n",
      "    stirringly prominently technologically magisterially predominately\n",
      "    swiftly fiscally pitilessly ...\n",
      "RBR: adverb, comparative\n",
      "    further gloomier grander graver greater grimmer harder harsher\n",
      "    healthier heavier higher however larger later leaner lengthier less-\n",
      "    perfectly lesser lonelier longer louder lower more ...\n",
      "RBS: adverb, superlative\n",
      "    best biggest bluntest earliest farthest first furthest hardest\n",
      "    heartiest highest largest least less most nearest second tightest worst\n",
      "RP: particle\n",
      "    aboard about across along apart around aside at away back before behind\n",
      "    by crop down ever fast for forth from go high i.e. in into just later\n",
      "    low more off on open out over per pie raising start teeth that through\n",
      "    under unto up up-pp upon whole with you\n",
      "SYM: symbol\n",
      "    % & ' '' ''. ) ). * + ,. < = > @ A[fj] U.S U.S.S.R * ** ***\n",
      "TO: \"to\" as preposition or infinitive marker\n",
      "    to\n",
      "UH: interjection\n",
      "    Goodbye Goody Gosh Wow Jeepers Jee-sus Hubba Hey Kee-reist Oops amen\n",
      "    huh howdy uh dammit whammo shucks heck anyways whodunnit honey golly\n",
      "    man baby diddle hush sonuvabitch ...\n",
      "VB: verb, base form\n",
      "    ask assemble assess assign assume atone attention avoid bake balkanize\n",
      "    bank begin behold believe bend benefit bevel beware bless boil bomb\n",
      "    boost brace break bring broil brush build ...\n",
      "VBD: verb, past tense\n",
      "    dipped pleaded swiped regummed soaked tidied convened halted registered\n",
      "    cushioned exacted snubbed strode aimed adopted belied figgered\n",
      "    speculated wore appreciated contemplated ...\n",
      "VBG: verb, present participle or gerund\n",
      "    telegraphing stirring focusing angering judging stalling lactating\n",
      "    hankerin' alleging veering capping approaching traveling besieging\n",
      "    encrypting interrupting erasing wincing ...\n",
      "VBN: verb, past participle\n",
      "    multihulled dilapidated aerosolized chaired languished panelized used\n",
      "    experimented flourished imitated reunifed factored condensed sheared\n",
      "    unsettled primed dubbed desired ...\n",
      "VBP: verb, present tense, not 3rd person singular\n",
      "    predominate wrap resort sue twist spill cure lengthen brush terminate\n",
      "    appear tend stray glisten obtain comprise detest tease attract\n",
      "    emphasize mold postpone sever return wag ...\n",
      "VBZ: verb, present tense, 3rd person singular\n",
      "    bases reconstructs marks mixes displeases seals carps weaves snatches\n",
      "    slumps stretches authorizes smolders pictures emerges stockpiles\n",
      "    seduces fizzes uses bolsters slaps speaks pleads ...\n",
      "WDT: WH-determiner\n",
      "    that what whatever which whichever\n",
      "WP: WH-pronoun\n",
      "    that what whatever whatsoever which who whom whosoever\n",
      "WP$: WH-pronoun, possessive\n",
      "    whose\n",
      "WRB: Wh-adverb\n",
      "    how however whence whenever where whereby whereever wherein whereof why\n",
      "``: opening quotation mark\n",
      "    ` ``\n"
     ]
    }
   ],
   "source": [
    "import nltk\n",
    "nltk.help.upenn_tagset()"
   ]
  },
  {
   "cell_type": "code",
   "execution_count": 9,
   "id": "74c24c97",
   "metadata": {},
   "outputs": [
    {
     "name": "stdout",
     "output_type": "stream",
     "text": [
      "[['updates', 'improvements'], ['mobile', 'i', 'battery', 'hell', 'backup', 'hours', 'internet', 'uses', 'idle', 'lie', 'amazon', 'lenove', 'battery', 'booster', 'charger', 'hours', 'don', 't', 'don'], ['i', '%', 'cash'], [], ['phone', 'everthey', 'phone', 'problem', 'amazon', 'phone', 'amazon']]\n"
     ]
    }
   ],
   "source": [
    "noun_tags = ['NN', 'NNS', 'NNP', 'NNPS']\n",
    "\n",
    "review_postags_nouns = []\n",
    "\n",
    "for item in review_postags:\n",
    "    noun_tokens = [token_tag[0] for token_tag in item if token_tag[1] in noun_tags]\n",
    "    review_postags_nouns.append(noun_tokens)\n",
    "    \n",
    "print(review_postags_nouns[:5])"
   ]
  },
  {
   "cell_type": "markdown",
   "id": "5e14eb77",
   "metadata": {},
   "source": [
    "#### Lemmatizing "
   ]
  },
  {
   "cell_type": "code",
   "execution_count": 10,
   "id": "dc437e6a",
   "metadata": {},
   "outputs": [
    {
     "name": "stdout",
     "output_type": "stream",
     "text": [
      "[['update', 'improvement'], ['mobile', 'i', 'battery', 'hell', 'backup', 'hour', 'internet', 'us', 'idle', 'lie', 'amazon', 'lenove', 'battery', 'booster', 'charger', 'hour', 'don', 't', 'don'], ['i', '%', 'cash'], [], ['phone', 'everthey', 'phone', 'problem', 'amazon', 'phone', 'amazon']]\n"
     ]
    }
   ],
   "source": [
    "from nltk import WordNetLemmatizer\n",
    "\n",
    "wnl = WordNetLemmatizer()\n",
    "\n",
    "review_postags_nouns_lemmed = []\n",
    "\n",
    "for item in review_postags_nouns:\n",
    "    lemmed_tokens = [wnl.lemmatize(token, 'n') for token in item]\n",
    "    review_postags_nouns_lemmed.append(lemmed_tokens)\n",
    "    \n",
    "print(review_postags_nouns_lemmed[:5])"
   ]
  },
  {
   "cell_type": "markdown",
   "id": "b5d3b961",
   "metadata": {},
   "source": [
    "#### Removing stopwords and punctuation (if there are any). "
   ]
  },
  {
   "cell_type": "code",
   "execution_count": 11,
   "id": "f858ec19",
   "metadata": {},
   "outputs": [
    {
     "name": "stdout",
     "output_type": "stream",
     "text": [
      "[['update', 'improvement'], ['mobile', 'battery', 'hell', 'backup', 'hour', 'internet', 'us', 'idle', 'lie', 'amazon', 'lenove', 'battery', 'booster', 'charger', 'hour'], ['cash'], [], ['phone', 'everthey', 'phone', 'problem', 'amazon', 'phone', 'amazon']]\n"
     ]
    }
   ],
   "source": [
    "from nltk.corpus import stopwords\n",
    "import string\n",
    "\n",
    "sw = stopwords.words(\"english\")\n",
    "punc = list(string.punctuation)\n",
    "\n",
    "custom_sw = sw + punc\n",
    "\n",
    "review_preprocessed = []\n",
    "\n",
    "for item in review_postags_nouns_lemmed:\n",
    "    if len(item)>0:        \n",
    "        preprocessed_tokens = [token for token in item if token not in custom_sw and len(token)>1]\n",
    "        review_preprocessed.append(preprocessed_tokens)\n",
    "    else:\n",
    "        review_preprocessed.append(item)\n",
    "    \n",
    "print(review_preprocessed[:5])"
   ]
  },
  {
   "cell_type": "markdown",
   "id": "fd7c3c8b",
   "metadata": {},
   "source": [
    "#### Creating a topic model using LDA"
   ]
  },
  {
   "cell_type": "code",
   "execution_count": 12,
   "id": "25ac4bc9",
   "metadata": {},
   "outputs": [],
   "source": [
    "import gensim\n",
    "from gensim.corpora import Dictionary\n",
    "import numpy as np\n",
    "\n",
    "np.random.seed(100)"
   ]
  },
  {
   "cell_type": "code",
   "execution_count": 13,
   "id": "8d3e5ac8",
   "metadata": {},
   "outputs": [],
   "source": [
    "dictionary = Dictionary(review_preprocessed)"
   ]
  },
  {
   "cell_type": "code",
   "execution_count": 14,
   "id": "18c64a17",
   "metadata": {},
   "outputs": [
    {
     "data": {
      "text/plain": [
       "gensim.corpora.dictionary.Dictionary"
      ]
     },
     "execution_count": 14,
     "metadata": {},
     "output_type": "execute_result"
    }
   ],
   "source": [
    "type(dictionary)"
   ]
  },
  {
   "cell_type": "code",
   "execution_count": 15,
   "id": "bb0b428a",
   "metadata": {},
   "outputs": [],
   "source": [
    "dictionary.filter_extremes(no_below=5, no_above=.8 ,keep_n=None)"
   ]
  },
  {
   "cell_type": "code",
   "execution_count": 16,
   "id": "d7fc14ca",
   "metadata": {},
   "outputs": [
    {
     "name": "stdout",
     "output_type": "stream",
     "text": [
      "Dictionary<1128 unique tokens: ['improvement', 'update', 'amazon', 'backup', 'battery']...>\n"
     ]
    }
   ],
   "source": [
    "print(dictionary)"
   ]
  },
  {
   "cell_type": "code",
   "execution_count": 17,
   "id": "f796126d",
   "metadata": {},
   "outputs": [],
   "source": [
    "bow_text = [dictionary.doc2bow(item) for item in review_preprocessed]"
   ]
  },
  {
   "cell_type": "code",
   "execution_count": 18,
   "id": "4bb19e17",
   "metadata": {},
   "outputs": [
    {
     "data": {
      "text/plain": [
       "[[(0, 1), (1, 1)],\n",
       " [(2, 1),\n",
       "  (3, 1),\n",
       "  (4, 2),\n",
       "  (5, 1),\n",
       "  (6, 1),\n",
       "  (7, 1),\n",
       "  (8, 2),\n",
       "  (9, 1),\n",
       "  (10, 1),\n",
       "  (11, 1),\n",
       "  (12, 1),\n",
       "  (13, 1)],\n",
       " [(14, 1)],\n",
       " [],\n",
       " [(2, 2), (15, 3), (16, 1)]]"
      ]
     },
     "execution_count": 18,
     "metadata": {},
     "output_type": "execute_result"
    }
   ],
   "source": [
    "bow_text[:5]"
   ]
  },
  {
   "cell_type": "code",
   "execution_count": 19,
   "id": "86c02613",
   "metadata": {},
   "outputs": [
    {
     "name": "stdout",
     "output_type": "stream",
     "text": [
      "Word 'amazon' comes 2 times in this sample review\n",
      "Word 'phone' comes 3 times in this sample review\n",
      "Word 'problem' comes 1 times in this sample review\n"
     ]
    }
   ],
   "source": [
    "sample_bow = bow_text[4]\n",
    "\n",
    "for item in sample_bow:\n",
    "    print(\"Word '{}' comes {} times in this sample review\".format(dictionary[item[0]], item[1]))"
   ]
  },
  {
   "cell_type": "code",
   "execution_count": 20,
   "id": "62060ecc",
   "metadata": {},
   "outputs": [],
   "source": [
    "# creating LDA model from Gensim library\n",
    "\n",
    "lda_model = gensim.models.LdaMulticore(bow_text, \n",
    "                                   num_topics = 6, \n",
    "                                   id2word = dictionary,\n",
    "                                   random_state=1,                                    \n",
    "                                   passes = 50)"
   ]
  },
  {
   "cell_type": "code",
   "execution_count": 21,
   "id": "4152a612",
   "metadata": {},
   "outputs": [
    {
     "name": "stdout",
     "output_type": "stream",
     "text": [
      "\n",
      "Topic: 0 \n",
      "Words: 0.214*\"battery\" + 0.058*\"phone\" + 0.042*\"camera\" + 0.042*\"backup\" + 0.030*\"performance\" + 0.029*\"problem\" + 0.029*\"hour\" + 0.029*\"charger\" + 0.025*\"day\" + 0.024*\"time\"\n",
      "\n",
      "Topic: 1 \n",
      "Words: 0.055*\"phone\" + 0.050*\"note\" + 0.048*\"problem\" + 0.029*\"issue\" + 0.027*\"month\" + 0.024*\"mobile\" + 0.023*\"screen\" + 0.021*\"option\" + 0.020*\"call\" + 0.020*\"speaker\"\n",
      "\n",
      "Topic: 2 \n",
      "Words: 0.156*\"product\" + 0.046*\"phone\" + 0.037*\"service\" + 0.036*\"amazon\" + 0.028*\"day\" + 0.023*\"time\" + 0.021*\"device\" + 0.019*\"issue\" + 0.017*\"delivery\" + 0.015*\"customer\"\n",
      "\n",
      "Topic: 3 \n",
      "Words: 0.342*\"phone\" + 0.053*\"price\" + 0.032*\"feature\" + 0.027*\"money\" + 0.019*\"value\" + 0.017*\"range\" + 0.014*\"budget\" + 0.013*\"android\" + 0.013*\"camera\" + 0.012*\"day\"\n",
      "\n",
      "Topic: 4 \n",
      "Words: 0.166*\"camera\" + 0.064*\"quality\" + 0.063*\"mobile\" + 0.023*\"performance\" + 0.020*\"price\" + 0.019*\"display\" + 0.019*\"feature\" + 0.018*\"everything\" + 0.016*\"waste\" + 0.016*\"mode\"\n",
      "\n",
      "Topic: 5 \n",
      "Words: 0.084*\"phone\" + 0.049*\"network\" + 0.043*\"lenovo\" + 0.041*\"issue\" + 0.040*\"problem\" + 0.033*\"note\" + 0.029*\"update\" + 0.028*\"heating\" + 0.025*\"software\" + 0.020*\"sim\"\n"
     ]
    }
   ],
   "source": [
    "for idx, topic in lda_model.print_topics(-1):\n",
    "    print(\"\\nTopic: {} \\nWords: {}\".format(idx, topic ))"
   ]
  },
  {
   "cell_type": "code",
   "execution_count": 31,
   "id": "5ce37298",
   "metadata": {},
   "outputs": [],
   "source": [
    "#from gensim.models import CoherenceModel\n",
    "#coherence_score = CoherenceModel(model=lda_model, texts=review_preprocessed, dictionary=dictionary, coherence='c_v')\n",
    "#coherence_lda = coherence_score.get_coherence()\n",
    "#print('Coherence Score for this LDA model is: ', coherence_lda)\n",
    "\n",
    "\n",
    "# THIS ABOVE SECTION IS COMMENTED BECAUSE WHENEVER THE COHERENCE MODEL IS RUNNNING, IT IS TIMING OUT THE WHOLE KERNEL RESETTING ALL THE VARIABLES.\n",
    "# Although, this can be used to get the coherence of the model."
   ]
  },
  {
   "cell_type": "markdown",
   "id": "c06799aa",
   "metadata": {},
   "source": [
    "#### Analyzing the topics"
   ]
  },
  {
   "cell_type": "code",
   "execution_count": 23,
   "id": "88b73ecc",
   "metadata": {},
   "outputs": [],
   "source": [
    "# Let us visualize topics in our text\n",
    "\n",
    "import pyLDAvis\n",
    "from pyLDAvis import gensim_models"
   ]
  },
  {
   "cell_type": "code",
   "execution_count": 24,
   "id": "4594acf0",
   "metadata": {},
   "outputs": [
    {
     "name": "stderr",
     "output_type": "stream",
     "text": [
      "c:\\Users\\piyus\\anaconda3\\lib\\site-packages\\ipykernel\\ipkernel.py:287: DeprecationWarning: `should_run_async` will not call `transform_cell` automatically in the future. Please pass the result to `transformed_cell` argument and any exception that happen during thetransform in `preprocessing_exc_tuple` in IPython 7.17 and above.\n",
      "  and should_run_async(code)\n"
     ]
    }
   ],
   "source": [
    "import warnings\n",
    "warnings.simplefilter('ignore')\n",
    "\n",
    "pyLDAvis.enable_notebook()"
   ]
  },
  {
   "cell_type": "code",
   "execution_count": 25,
   "id": "1e7d4f6c",
   "metadata": {},
   "outputs": [],
   "source": [
    "LDAvis_prepared = pyLDAvis.gensim_models.prepare(lda_model, bow_text, dictionary)"
   ]
  },
  {
   "cell_type": "code",
   "execution_count": 28,
   "id": "98037933",
   "metadata": {},
   "outputs": [
    {
     "data": {
      "text/html": [
       "\n",
       "<link rel=\"stylesheet\" type=\"text/css\" href=\"https://cdn.jsdelivr.net/gh/bmabey/pyLDAvis@3.3.1/pyLDAvis/js/ldavis.v1.0.0.css\">\n",
       "\n",
       "\n",
       "<div id=\"ldavis_el1870829670125699361711747413\"></div>\n",
       "<script type=\"text/javascript\">\n",
       "\n",
       "var ldavis_el1870829670125699361711747413_data = {\"mdsDat\": {\"x\": [-0.27174801276649085, 0.18834355510117298, -0.1151698319470462, 0.07482000514988918, 0.02292633163526965, 0.10082795282720566], \"y\": [0.006523039305922741, -0.17074032552180496, -0.1595962459677197, -0.0371609762310729, 0.2319097593585924, 0.1290647490560826], \"topics\": [1, 2, 3, 4, 5, 6], \"cluster\": [1, 1, 1, 1, 1, 1], \"Freq\": [18.67957137961259, 18.004660661202028, 17.927735740910737, 16.503472189711793, 14.894178865135247, 13.990381163427607]}, \"tinfo\": {\"Term\": [\"battery\", \"phone\", \"product\", \"camera\", \"quality\", \"network\", \"price\", \"backup\", \"service\", \"amazon\", \"mobile\", \"problem\", \"note\", \"lenovo\", \"hour\", \"charger\", \"update\", \"software\", \"feature\", \"month\", \"money\", \"heating\", \"performance\", \"everything\", \"screen\", \"device\", \"life\", \"value\", \"issue\", \"speaker\", \"clarity\", \"mp\", \"front\", \"image\", \"design\", \"management\", \"rear\", \"everything\", \"feel\", \"google\", \"average\", \"others\", \"hd\", \"print\", \"phn\", \"edge\", \"processing\", \"fine\", \"buying\", \"blur\", \"pic\", \"rom\", \"information\", \"size\", \"word\", \"office\", \"file\", \"perfect\", \"lack\", \"idea\", \"bokeh\", \"camera\", \"pro\", \"depth\", \"quality\", \"display\", \"waste\", \"mobile\", \"specification\", \"effect\", \"processor\", \"touch\", \"mode\", \"mark\", \"picture\", \"video\", \"performance\", \"buy\", \"sound\", \"price\", \"feature\", \"photo\", \"sensor\", \"range\", \"speed\", \"ram\", \"device\", \"screen\", \"money\", \"speaker\", \"phone\", \"service\", \"return\", \"plz\", \"centre\", \"excellent\", \"customer\", \"product\", \"warranty\", \"policy\", \"pls\", \"amount\", \"gud\", \"exchange\", \"drainage\", \"friend\", \"complain\", \"head\", \"yesterday\", \"mail\", \"invoice\", \"process\", \"camara\", \"amazon\", \"china\", \"split\", \"comparison\", \"alarm\", \"oct\", \"atom\", \"id\", \"delivery\", \"care\", \"center\", \"request\", \"earphone\", \"thanks\", \"device\", \"handset\", \"replacement\", \"data\", \"day\", \"please\", \"time\", \"star\", \"class\", \"phone\", \"screen\", \"issue\", \"money\", \"support\", \"lenovo\", \"heat\", \"lot\", \"problem\", \"mobile\", \"hour\", \"note\", \"experience\", \"backup\", \"core\", \"super\", \"deca\", \"storage\", \"jack\", \"capacity\", \"default\", \"fone\", \"draining\", \"pc\", \"fast\", \"mah\", \"batter\", \"sm\", \"bottom\", \"wire\", \"operation\", \"im\", \"wrost\", \"gold\", \"warm\", \"cool\", \"rd\", \"wastage\", \"iam\", \"mast\", \"technology\", \"sims\", \"bettry\", \"battery\", \"hr\", \"expectation\", \"drain\", \"charger\", \"life\", \"hour\", \"charge\", \"charging\", \"turbo\", \"performance\", \"use\", \"day\", \"usage\", \"ram\", \"time\", \"experience\", \"problem\", \"camera\", \"phone\", \"issue\", \"quality\", \"month\", \"gb\", \"sound\", \"heating\", \"mobile\", \"superb\", \"glass\", \"box\", \"connectivity\", \"rest\", \"recorder\", \"redmi\", \"headset\", \"rate\", \"spec\", \"term\", \"choice\", \"setting\", \"drop\", \"anyone\", \"hell\", \"scratch\", \"hanging\", \"guard\", \"percentage\", \"record\", \"tv\", \"think\", \"colour\", \"description\", \"gr\", \"recording\", \"go\", \"try\", \"pocket\", \"hotspot\", \"cast\", \"reason\", \"moto\", \"side\", \"volume\", \"gorilla\", \"bit\", \"thing\", \"option\", \"speaker\", \"month\", \"note\", \"set\", \"heat\", \"screen\", \"problem\", \"call\", \"min\", \"gallery\", \"headphone\", \"issue\", \"phone\", \"lenovo\", \"mobile\", \"battery\", \"game\", \"feature\", \"look\", \"heating\", \"mode\", \"value\", \"cost\", \"color\", \"awesome\", \"ko\", \"wise\", \"nd\", \"bluetooth\", \"restart\", \"package\", \"zoom\", \"vr\", \"mediatek\", \"bed\", \"mob\", \"doesnt\", \"tray\", \"home\", \"maine\", \"suck\", \"effort\", \"doubt\", \"output\", \"gd\", \"coverage\", \"spent\", \"category\", \"stop\", \"status\", \"battry\", \"ok\", \"budget\", \"worth\", \"gaya\", \"phone\", \"price\", \"android\", \"atmos\", \"ho\", \"stock\", \"money\", \"apps\", \"feature\", \"range\", \"smartphone\", \"button\", \"hai\", \"music\", \"refund\", \"day\", \"use\", \"performance\", \"software\", \"camera\", \"issue\", \"app\", \"time\", \"lenovo\", \"note\", \"network\", \"bill\", \"jio\", \"hi\", \"samsung\", \"jata\", \"bar\", \"list\", \"lte\", \"reception\", \"thank\", \"caller\", \"nahi\", \"something\", \"half\", \"bt\", \"cash\", \"bahut\", \"ki\", \"ka\", \"kar\", \"se\", \"smart\", \"ek\", \"ph\", \"fire\", \"connection\", \"koi\", \"ye\", \"copy\", \"hang\", \"sim\", \"update\", \"software\", \"bug\", \"volta\", \"killer\", \"contact\", \"lenovo\", \"heating\", \"work\", \"cell\", \"hai\", \"issue\", \"message\", \"problem\", \"note\", \"phone\", \"speed\", \"nothing\", \"card\", \"call\", \"signal\", \"slot\", \"time\", \"support\", \"feature\", \"quality\", \"system\", \"camera\"], \"Freq\": [3356.0, 7173.0, 2229.0, 3323.0, 1352.0, 533.0, 935.0, 590.0, 519.0, 524.0, 1530.0, 1646.0, 1247.0, 935.0, 514.0, 487.0, 403.0, 351.0, 886.0, 586.0, 627.0, 577.0, 935.0, 266.0, 605.0, 441.0, 375.0, 216.0, 1555.0, 388.0, 173.03624460260028, 168.3311780732968, 163.08241327720464, 132.09366278809725, 76.96590573199869, 66.12124121579352, 61.38067418018576, 263.2669199475588, 61.371737939501664, 59.335748592577616, 53.729832949205445, 42.549862484109845, 42.28034247727679, 42.23854382261803, 40.19600168522274, 37.250057222134735, 35.494666511736824, 34.313368151183816, 33.40956518856073, 30.788757965833938, 57.32233751333944, 29.02240406350254, 28.431060559054345, 28.120931925054844, 27.528832982326932, 27.256476262313193, 26.941657120523008, 26.081469259658217, 24.5865791323178, 23.998622368022485, 36.492462972497606, 2418.578276203459, 53.54827991041347, 144.58147516486164, 939.3006984211411, 277.6696410423429, 235.00960340238248, 918.9588811469622, 98.64650223741836, 90.07073972426517, 210.47027905647852, 108.70540908587299, 226.6708957237898, 119.16897960536645, 120.62698567090153, 142.01619010927274, 335.10484273228593, 115.19141541795575, 166.90480195389128, 287.9957523519822, 272.9000244340554, 107.163982262888, 96.99674726273632, 138.31180598472, 121.57339874772879, 103.38043499707753, 126.09433526001871, 135.48104124388394, 133.1755726328655, 111.20620517658588, 117.88376349457864, 519.0121004442215, 200.97317684957486, 85.58967411331244, 81.12861823509034, 79.03242869480277, 217.4977227654848, 2197.9983719927513, 57.379925927646525, 116.0893078477815, 67.77186012243392, 46.74747527435652, 43.147739612415755, 40.50378647813368, 40.169776384649616, 38.37090831935136, 36.081071858879085, 36.03607094968976, 35.76192571198348, 35.16953428011427, 34.26336369219162, 33.66556927137095, 29.242039785823856, 509.1044259060554, 28.0575449069599, 28.042370067609244, 27.462973953199917, 26.86603203305875, 26.279454295842648, 25.684778620310137, 22.722090044834097, 243.13950328050524, 91.42898633002191, 134.5708942487299, 59.84883334658951, 83.16255068160888, 109.20395602571415, 298.68639239201025, 162.09390977569876, 131.31818363306544, 126.56216579229135, 397.4949714946651, 141.31017228833963, 329.7980528906979, 97.69257226302543, 57.048756412242334, 643.3964329843167, 168.78775165625208, 264.3372844760044, 165.42832955437967, 83.9342454233816, 155.43601364356633, 111.0887777583717, 97.14955714690406, 156.71554353100115, 150.34119468821493, 107.58549412148635, 114.37346778532248, 91.40171285338866, 589.0764525351569, 106.79993209258768, 94.78638662022428, 65.48494270609865, 50.93742628567399, 50.305373838100266, 44.97600637403542, 39.90935813155159, 36.14832249214957, 68.50982425360456, 33.623420153852884, 71.22170027486285, 124.30709342110501, 28.58207473379881, 25.71595414078101, 24.45761366197332, 22.910182327080545, 22.563437531877675, 21.310076153221, 21.30766969676712, 21.301960676175113, 20.047773249162233, 19.710025375109208, 20.021212617401133, 19.413926956933313, 19.413974206247573, 17.528614146478226, 17.525054155041715, 17.182773605393095, 16.89978605728109, 2992.4902851936085, 207.41755535865644, 128.59905168269668, 168.4297804381723, 403.9537956747096, 311.11894259351965, 406.43771493538895, 274.8946334283193, 155.36529942516364, 196.01429506357303, 418.52188672756466, 172.14583147182506, 349.4580919621316, 107.4252132246419, 112.61073096608452, 331.8535579433572, 125.4463428179629, 410.03033120875335, 589.3646146978238, 805.7028666574176, 322.04759819043835, 294.463956862708, 177.69299220604287, 99.02165873899713, 100.62208751162301, 101.4969101944397, 115.55897086728676, 204.93464473381715, 194.49841083759569, 167.78796870526114, 86.7054323844843, 71.97229449374619, 68.86541230199256, 68.17432410482442, 57.883797491550894, 52.70925414232231, 52.02271348583332, 47.57841337894765, 48.24798474940633, 42.414965908988314, 41.40844157220487, 39.30206332531975, 37.60797243566719, 36.92727518896909, 32.435855841326095, 30.06263954621282, 30.061184693159134, 29.374839016976313, 66.98178255656636, 28.690656122343402, 28.689477241415364, 28.000596821252408, 26.311554421680988, 31.54697662188805, 25.94269367817671, 25.255790058348556, 24.889663538676096, 27.50143223898715, 143.5401578367497, 31.848515165219382, 67.46978526622797, 101.85699201285661, 76.78746214144111, 81.81964586959374, 159.79995552838875, 176.6203126011586, 269.1981618466941, 258.82681739636405, 352.7931903951258, 649.6230253259307, 75.75341258482133, 238.19134966591213, 296.88793306264773, 615.1387483838025, 259.4723281970421, 99.88664702603667, 84.70689624509005, 90.6254244487006, 372.1732489272183, 707.8113400599517, 238.49465503078702, 302.7876891623202, 249.15485830515368, 94.0913043801636, 128.53744917380013, 86.16717875037867, 105.14990341487291, 78.96616008373103, 215.82109722491793, 84.72909748542763, 66.75631654232697, 64.40355784820618, 46.12322395335172, 39.381193607702414, 41.089565438452844, 37.63851356649148, 37.095521772527555, 36.47986360239533, 35.937153356122394, 26.915285168318224, 28.857019427057747, 26.33231630942332, 25.439680183902876, 25.439179353875637, 25.17404535183427, 24.27741341485326, 24.012885823223254, 22.536053128443836, 22.265879693452714, 21.954255128936936, 21.642610260501133, 21.106598954241175, 20.79083915801401, 19.945936194873394, 18.47466542058566, 18.465379761161724, 18.46569514871942, 17.89096697416459, 83.63921554485532, 166.91097886669914, 81.36260467238948, 22.31201019974538, 3980.48625664611, 617.0688106941328, 155.88980533172705, 63.231507296894726, 82.55052476759104, 113.19812253678907, 313.611338283508, 111.07258907243171, 372.0246874582512, 197.65609501017383, 85.75542544913804, 82.04463229629347, 103.59204018299525, 93.09099352085165, 57.65394466522555, 142.9480542226796, 87.61049445565062, 104.70028769602585, 74.63629497521679, 146.99746803210274, 107.72180337192349, 59.1736308136059, 82.41250684084147, 66.77556465850894, 62.81885584072228, 532.3990483343892, 52.34113234818917, 137.46997279084334, 45.80091610855642, 43.77933535992225, 39.90951157140682, 39.30090841951124, 39.03967490054714, 40.12712140675533, 35.90088029855211, 35.59081775173687, 31.367178044194617, 30.80180442429932, 29.92505865706054, 29.662736771055496, 28.794202071983122, 28.232299529216085, 27.666007917494195, 27.665901115121017, 24.52765323956011, 24.000870877172837, 23.69665703174587, 22.55929821647288, 21.733052171351375, 21.425507109046737, 21.163892153035583, 77.27360218288186, 21.41038948741487, 40.519373465557706, 20.29454245013932, 134.7371950392223, 218.08623496280632, 313.66317013633716, 276.18161980059006, 80.12598333497945, 119.73564215786404, 93.64721972331094, 83.46104509808308, 474.5542727223521, 306.10078906964395, 172.10996970080214, 55.007102672474225, 137.67901046428756, 451.9766578988793, 66.57758862889719, 440.74869732489014, 361.95255102495815, 917.8709059646052, 127.20347769515897, 70.60160198640305, 85.42201295702556, 148.7977884979259, 67.72626340989966, 59.793095018499045, 138.28272867906713, 73.97147623733515, 112.48113673224958, 115.51342902487778, 69.25854180039082, 107.32970226600351], \"Total\": [3356.0, 7173.0, 2229.0, 3323.0, 1352.0, 533.0, 935.0, 590.0, 519.0, 524.0, 1530.0, 1646.0, 1247.0, 935.0, 514.0, 487.0, 403.0, 351.0, 886.0, 586.0, 627.0, 577.0, 935.0, 266.0, 605.0, 441.0, 375.0, 216.0, 1555.0, 388.0, 173.89083765772529, 169.18369582171735, 164.08636759562611, 132.94572347874094, 77.84015626253246, 66.97704614110906, 62.2331746410221, 266.9398470564724, 62.23031247151527, 60.19108950801193, 54.58377935088687, 43.40482141595543, 43.13224628597991, 43.092869790866324, 41.05094201110006, 38.1107497365642, 36.34684302553829, 35.16781855822513, 34.265179378529474, 31.640895524812972, 58.948192477615905, 29.875275350824563, 29.285374009995053, 28.973761011297366, 28.383533376959594, 28.109918327474645, 27.79605562906672, 26.933421124411275, 25.441870812812926, 24.853492441900112, 37.80159153843161, 3323.1726459554575, 58.06620981594333, 170.1376202232022, 1352.619978429878, 377.574196142996, 320.50246847730233, 1530.1515969625784, 124.58018641026062, 114.20101278386092, 324.68693848728486, 147.76316438063878, 378.0824410304489, 169.36982721325273, 176.5207894576059, 223.0931939759111, 935.0355454363081, 192.10756342928389, 353.43262964711045, 935.2440429279787, 886.2849218864951, 183.51549437972525, 175.15472525053366, 390.68381007192505, 292.76680138917254, 216.67223944160307, 441.4072494981771, 605.4785247826865, 627.1655056097842, 388.59063250686677, 7173.15156580698, 519.8633445899419, 202.21019899270289, 86.44310286626396, 81.9801034512881, 79.88456748157256, 220.43013208340815, 2229.5114785404267, 58.23128793655215, 118.00173143837424, 68.93685289032516, 47.59900307252339, 44.00136755997463, 41.355820089388615, 41.08627025311382, 39.25761238135063, 36.93079014774816, 36.889571291367496, 36.61381782729687, 36.021175361095224, 35.11345774923401, 34.51852524502106, 30.093354052267546, 524.4588637795582, 28.908149111499483, 28.90131202237256, 28.31473016902731, 27.71993320857328, 27.131046950000563, 26.53660026577922, 23.573341030905926, 255.63460340549625, 96.03455088831733, 151.18809915566482, 66.6431329525493, 97.56663132116356, 134.2347667940246, 441.4072494981771, 217.51485895142682, 187.62382312558606, 189.6708665381638, 1000.7201689348086, 256.8526053439449, 1017.0526714119419, 173.1473445771623, 76.81338552882286, 7173.15156580698, 605.4785247826865, 1555.6424218680256, 627.1655056097842, 199.22848810641068, 935.6053956970732, 405.9896120761769, 309.8713317411924, 1646.092635442898, 1530.1515969625784, 514.7009429870952, 1247.1403854004593, 259.6326281901905, 590.2445184007196, 107.64339786432562, 95.6259042477944, 66.32665816697822, 51.78205082658953, 51.15078400886015, 45.81632134626849, 40.76652871649709, 36.988844057722496, 70.10928004055444, 34.465617000781464, 73.16805906308294, 127.93894983790754, 29.422584116777358, 26.56098270485074, 25.301754960615966, 23.74958844562075, 23.408699689589707, 22.151258313646693, 22.149403380757427, 22.14748724395157, 20.889649952822893, 20.55242413954833, 20.877717678467636, 20.257321434142025, 20.257455921125334, 18.36873675349318, 18.367111645464863, 18.02833245917085, 17.73921175265441, 3356.9867156375835, 233.02555911287126, 145.02525340449736, 192.85772633136497, 487.2041817479443, 375.87528205629866, 514.7009429870952, 346.7737620920625, 190.75828951432774, 258.7878612324295, 935.0355454363081, 341.3311205585895, 1000.7201689348086, 199.83862929560217, 216.67223944160307, 1017.0526714119419, 259.6326281901905, 1646.092635442898, 3323.1726459554575, 7173.15156580698, 1555.6424218680256, 1352.619978429878, 586.0436658747519, 234.57441616749054, 353.43262964711045, 577.9048909162123, 1530.1515969625784, 205.7611668956458, 195.33461689898715, 168.61273607299094, 87.53227147740805, 72.79821855091214, 69.6899317320742, 69.00087329787652, 58.7080585985604, 53.53567987775629, 52.84937710054867, 48.409071761463544, 49.09339158826196, 43.241000283440684, 42.23404315778866, 40.12926439423913, 38.43504065451343, 37.751902030627605, 33.26529873616601, 30.887752722077725, 30.886966294794963, 30.20066416386477, 68.9054790888024, 29.51542507337599, 29.51482571576537, 28.826825283889256, 27.135546714694435, 32.54821209932299, 26.768503424383315, 26.081945898122274, 25.716278789901306, 28.438446900772163, 156.76793864527102, 33.17781591526619, 73.29151728462591, 113.69081033959837, 86.27981559930777, 94.61822018033844, 200.80389603711245, 235.35651319824603, 385.21792351385614, 388.59063250686677, 586.0436658747519, 1247.1403854004593, 93.65312072721645, 405.9896120761769, 605.4785247826865, 1646.092635442898, 514.9152940564206, 146.72059026270637, 116.17518853455033, 135.80561983038987, 1555.6424218680256, 7173.15156580698, 935.6053956970732, 1530.1515969625784, 3356.9867156375835, 209.3391520901696, 886.2849218864951, 180.28004587477773, 577.9048909162123, 378.0824410304489, 216.67565995077024, 85.58601029241663, 67.61743358793407, 65.25655079398884, 46.977081988828985, 40.23797517065077, 42.01664314859213, 38.49551285708493, 37.952815861269215, 37.334725342731176, 36.791853542252525, 27.769449873761697, 29.781820369987344, 27.187730924037186, 26.296107263029374, 26.29629337047231, 26.02745305538404, 25.1344803778708, 24.86604124861018, 23.39239971039365, 23.121498366938415, 22.810981062966988, 22.50091276846419, 21.96018447701605, 21.648627521879153, 20.799618402055398, 19.328080264782198, 19.3241050977241, 19.324552706903603, 18.7459465488144, 94.5300657334995, 200.71351735596346, 96.5327055273568, 23.713117672880013, 7173.15156580698, 935.2440429279787, 204.25425244018484, 78.00147429326785, 113.98865105480061, 171.70207861124692, 627.1655056097842, 181.30881241630195, 886.2849218864951, 390.68381007192505, 131.75062722776784, 129.31162767667635, 244.81110727237822, 240.11723228812855, 120.31888645831852, 1000.7201689348086, 341.3311205585895, 935.0355454363081, 351.53877279969237, 3323.1726459554575, 1555.6424218680256, 203.77584593075113, 1017.0526714119419, 935.6053956970732, 1247.1403854004593, 533.2576542304085, 53.1996482522416, 139.8296305711438, 46.66128216619312, 44.69763375898022, 40.76659954190671, 40.161389314854866, 39.897299857749424, 41.036619715808555, 36.759985298655366, 36.45422528892229, 32.22570927476314, 31.659570289470686, 30.787358312162013, 30.5239904298606, 29.65430639896932, 29.089703554353058, 28.523314610744066, 28.52333098167081, 25.38624880349382, 24.857488753144022, 24.554679836201004, 23.419045674486036, 22.589819239631712, 22.285231159104978, 22.021990922868053, 80.41156246167338, 22.28837741597749, 42.201130708463374, 21.152749911354398, 158.50034451843845, 270.8266104470309, 403.17624418159016, 351.53877279969237, 94.68508598453964, 147.79962947292506, 113.76020633150603, 111.40671751473408, 935.6053956970732, 577.9048909162123, 284.6545284692412, 70.59721361642703, 244.81110727237822, 1555.6424218680256, 99.19307585697815, 1646.092635442898, 1247.1403854004593, 7173.15156580698, 292.76680138917254, 115.78983880344333, 167.26357358676967, 514.9152940564206, 121.27994577659496, 99.3534479528365, 1017.0526714119419, 199.22848810641068, 886.2849218864951, 1352.619978429878, 186.55801941689018, 3323.1726459554575], \"Category\": [\"Default\", \"Default\", \"Default\", \"Default\", \"Default\", \"Default\", \"Default\", \"Default\", \"Default\", \"Default\", \"Default\", \"Default\", \"Default\", \"Default\", \"Default\", \"Default\", \"Default\", \"Default\", \"Default\", \"Default\", \"Default\", \"Default\", \"Default\", \"Default\", \"Default\", \"Default\", \"Default\", \"Default\", \"Default\", \"Default\", \"Topic1\", \"Topic1\", \"Topic1\", \"Topic1\", \"Topic1\", \"Topic1\", \"Topic1\", \"Topic1\", \"Topic1\", \"Topic1\", \"Topic1\", \"Topic1\", \"Topic1\", \"Topic1\", \"Topic1\", \"Topic1\", \"Topic1\", \"Topic1\", \"Topic1\", \"Topic1\", \"Topic1\", \"Topic1\", \"Topic1\", \"Topic1\", \"Topic1\", \"Topic1\", \"Topic1\", \"Topic1\", \"Topic1\", \"Topic1\", \"Topic1\", \"Topic1\", \"Topic1\", \"Topic1\", \"Topic1\", \"Topic1\", \"Topic1\", \"Topic1\", \"Topic1\", \"Topic1\", \"Topic1\", \"Topic1\", \"Topic1\", \"Topic1\", \"Topic1\", \"Topic1\", \"Topic1\", \"Topic1\", \"Topic1\", \"Topic1\", \"Topic1\", \"Topic1\", \"Topic1\", \"Topic1\", \"Topic1\", \"Topic1\", \"Topic1\", \"Topic1\", \"Topic1\", \"Topic1\", \"Topic1\", \"Topic2\", \"Topic2\", \"Topic2\", \"Topic2\", \"Topic2\", \"Topic2\", \"Topic2\", \"Topic2\", \"Topic2\", \"Topic2\", \"Topic2\", \"Topic2\", \"Topic2\", \"Topic2\", \"Topic2\", \"Topic2\", \"Topic2\", \"Topic2\", \"Topic2\", \"Topic2\", \"Topic2\", \"Topic2\", \"Topic2\", \"Topic2\", \"Topic2\", \"Topic2\", \"Topic2\", \"Topic2\", \"Topic2\", \"Topic2\", \"Topic2\", \"Topic2\", \"Topic2\", \"Topic2\", \"Topic2\", \"Topic2\", \"Topic2\", \"Topic2\", \"Topic2\", \"Topic2\", \"Topic2\", \"Topic2\", \"Topic2\", \"Topic2\", \"Topic2\", \"Topic2\", \"Topic2\", \"Topic2\", \"Topic2\", \"Topic2\", \"Topic2\", \"Topic2\", \"Topic2\", \"Topic2\", \"Topic2\", \"Topic2\", \"Topic2\", \"Topic2\", \"Topic3\", \"Topic3\", \"Topic3\", \"Topic3\", \"Topic3\", \"Topic3\", \"Topic3\", \"Topic3\", \"Topic3\", \"Topic3\", \"Topic3\", \"Topic3\", \"Topic3\", \"Topic3\", \"Topic3\", \"Topic3\", \"Topic3\", \"Topic3\", \"Topic3\", \"Topic3\", \"Topic3\", \"Topic3\", \"Topic3\", \"Topic3\", \"Topic3\", \"Topic3\", \"Topic3\", \"Topic3\", \"Topic3\", \"Topic3\", \"Topic3\", \"Topic3\", \"Topic3\", \"Topic3\", \"Topic3\", \"Topic3\", \"Topic3\", \"Topic3\", \"Topic3\", \"Topic3\", \"Topic3\", \"Topic3\", \"Topic3\", \"Topic3\", \"Topic3\", \"Topic3\", \"Topic3\", \"Topic3\", \"Topic3\", \"Topic3\", \"Topic3\", \"Topic3\", \"Topic3\", \"Topic3\", \"Topic3\", \"Topic3\", \"Topic3\", \"Topic4\", \"Topic4\", \"Topic4\", \"Topic4\", \"Topic4\", \"Topic4\", \"Topic4\", \"Topic4\", \"Topic4\", \"Topic4\", \"Topic4\", \"Topic4\", \"Topic4\", \"Topic4\", \"Topic4\", \"Topic4\", \"Topic4\", \"Topic4\", \"Topic4\", \"Topic4\", \"Topic4\", \"Topic4\", \"Topic4\", \"Topic4\", \"Topic4\", \"Topic4\", \"Topic4\", \"Topic4\", \"Topic4\", \"Topic4\", \"Topic4\", \"Topic4\", \"Topic4\", \"Topic4\", \"Topic4\", \"Topic4\", \"Topic4\", \"Topic4\", \"Topic4\", \"Topic4\", \"Topic4\", \"Topic4\", \"Topic4\", \"Topic4\", \"Topic4\", \"Topic4\", \"Topic4\", \"Topic4\", \"Topic4\", \"Topic4\", \"Topic4\", \"Topic4\", \"Topic4\", \"Topic4\", \"Topic4\", \"Topic4\", \"Topic4\", \"Topic4\", \"Topic4\", \"Topic4\", \"Topic4\", \"Topic5\", \"Topic5\", \"Topic5\", \"Topic5\", \"Topic5\", \"Topic5\", \"Topic5\", \"Topic5\", \"Topic5\", \"Topic5\", \"Topic5\", \"Topic5\", \"Topic5\", \"Topic5\", \"Topic5\", \"Topic5\", \"Topic5\", \"Topic5\", \"Topic5\", \"Topic5\", \"Topic5\", \"Topic5\", \"Topic5\", \"Topic5\", \"Topic5\", \"Topic5\", \"Topic5\", \"Topic5\", \"Topic5\", \"Topic5\", \"Topic5\", \"Topic5\", \"Topic5\", \"Topic5\", \"Topic5\", \"Topic5\", \"Topic5\", \"Topic5\", \"Topic5\", \"Topic5\", \"Topic5\", \"Topic5\", \"Topic5\", \"Topic5\", \"Topic5\", \"Topic5\", \"Topic5\", \"Topic5\", \"Topic5\", \"Topic5\", \"Topic5\", \"Topic5\", \"Topic5\", \"Topic5\", \"Topic5\", \"Topic5\", \"Topic5\", \"Topic5\", \"Topic5\", \"Topic6\", \"Topic6\", \"Topic6\", \"Topic6\", \"Topic6\", \"Topic6\", \"Topic6\", \"Topic6\", \"Topic6\", \"Topic6\", \"Topic6\", \"Topic6\", \"Topic6\", \"Topic6\", \"Topic6\", \"Topic6\", \"Topic6\", \"Topic6\", \"Topic6\", \"Topic6\", \"Topic6\", \"Topic6\", \"Topic6\", \"Topic6\", \"Topic6\", \"Topic6\", \"Topic6\", \"Topic6\", \"Topic6\", \"Topic6\", \"Topic6\", \"Topic6\", \"Topic6\", \"Topic6\", \"Topic6\", \"Topic6\", \"Topic6\", \"Topic6\", \"Topic6\", \"Topic6\", \"Topic6\", \"Topic6\", \"Topic6\", \"Topic6\", \"Topic6\", \"Topic6\", \"Topic6\", \"Topic6\", \"Topic6\", \"Topic6\", \"Topic6\", \"Topic6\", \"Topic6\", \"Topic6\", \"Topic6\", \"Topic6\", \"Topic6\", \"Topic6\", \"Topic6\", \"Topic6\"], \"logprob\": [30.0, 29.0, 28.0, 27.0, 26.0, 25.0, 24.0, 23.0, 22.0, 21.0, 20.0, 19.0, 18.0, 17.0, 16.0, 15.0, 14.0, 13.0, 12.0, 11.0, 10.0, 9.0, 8.0, 7.0, 6.0, 5.0, 4.0, 3.0, 2.0, 1.0, -4.4341, -4.4616, -4.4933, -4.7041, -5.2442, -5.3961, -5.4705, -4.0144, -5.4706, -5.5044, -5.6036, -5.8369, -5.8432, -5.8442, -5.8938, -5.9699, -6.0182, -6.052, -6.0787, -6.1604, -5.5389, -6.2195, -6.2401, -6.2511, -6.2723, -6.2823, -6.2939, -6.3263, -6.3854, -6.4096, -5.9905, -1.7966, -5.607, -4.6137, -2.7424, -3.9611, -4.1279, -2.7643, -4.996, -5.087, -4.2382, -4.8989, -4.1641, -4.807, -4.7949, -4.6316, -3.7731, -4.841, -4.4701, -3.9246, -3.9785, -4.9132, -5.0129, -4.6581, -4.7871, -4.9492, -4.7505, -4.6787, -4.6959, -4.8762, -4.8179, -3.2988, -4.2476, -5.1012, -5.1547, -5.1809, -4.1686, -1.8555, -5.5011, -4.7964, -5.3346, -5.706, -5.7861, -5.8494, -5.8577, -5.9035, -5.965, -5.9662, -5.9739, -5.9906, -6.0167, -6.0343, -6.1752, -3.3181, -6.2165, -6.2171, -6.2379, -6.2599, -6.282, -6.3049, -6.4274, -4.0571, -5.0352, -4.6487, -5.4589, -5.13, -4.8576, -3.8514, -4.4626, -4.6731, -4.71, -3.5656, -4.5998, -3.7523, -4.9689, -5.5069, -3.084, -4.4221, -3.9735, -4.4422, -5.1207, -4.5045, -4.8404, -4.9745, -4.4963, -4.5379, -4.8725, -4.8113, -5.0355, -3.1679, -4.8755, -4.9949, -5.3647, -5.6159, -5.6284, -5.7404, -5.8599, -5.9589, -5.3195, -6.0313, -5.2807, -4.7237, -6.1937, -6.2994, -6.3495, -6.4149, -6.4302, -6.4873, -6.4874, -6.4877, -6.5484, -6.5654, -6.5497, -6.5805, -6.5805, -6.6827, -6.6829, -6.7026, -6.7192, -1.5426, -4.2118, -4.6898, -4.42, -3.5452, -3.8063, -3.5391, -3.9301, -4.5007, -4.2683, -3.5098, -4.3981, -3.6901, -4.8697, -4.8226, -3.7418, -4.7146, -3.5303, -3.1674, -2.8548, -3.7718, -3.8613, -4.3664, -4.9512, -4.9351, -4.9265, -4.7967, -4.141, -4.1933, -4.341, -5.0012, -5.1874, -5.2316, -5.2416, -5.4053, -5.4989, -5.512, -5.6013, -5.5874, -5.7162, -5.7402, -5.7924, -5.8365, -5.8548, -5.9844, -6.0604, -6.0605, -6.0836, -5.2593, -6.1071, -6.1072, -6.1315, -6.1937, -6.0122, -6.2078, -6.2347, -6.2493, -6.1495, -4.4971, -6.0027, -5.252, -4.8401, -5.1227, -5.0592, -4.3898, -4.2897, -3.8683, -3.9076, -3.5978, -2.9873, -5.1362, -3.9906, -3.7704, -3.0419, -3.9051, -4.8597, -5.0245, -4.957, -3.5444, -2.9015, -3.9894, -3.7507, -3.9456, -4.9194, -4.6075, -5.0074, -4.8083, -5.0947, -3.9867, -4.9217, -5.1601, -5.1959, -5.5298, -5.6878, -5.6454, -5.7331, -5.7476, -5.7643, -5.7793, -6.0684, -5.9988, -6.0903, -6.1248, -6.1248, -6.1353, -6.1716, -6.1825, -6.246, -6.2581, -6.2721, -6.2864, -6.3115, -6.3266, -6.3681, -6.4447, -6.4452, -6.4452, -6.4768, -4.9346, -4.2436, -4.9622, -6.256, -1.072, -2.9361, -4.312, -5.2143, -4.9477, -4.632, -3.613, -4.6509, -3.4421, -4.0746, -4.9096, -4.9538, -4.7206, -4.8275, -5.3067, -4.3986, -4.8882, -4.71, -5.0485, -4.3707, -4.6816, -5.2806, -4.9494, -5.1598, -5.2209, -3.0211, -5.3407, -4.3751, -5.4742, -5.5193, -5.6119, -5.6273, -5.6339, -5.6065, -5.7177, -5.7264, -5.8527, -5.8709, -5.8998, -5.9086, -5.9383, -5.958, -5.9783, -5.9783, -6.0987, -6.1204, -6.1332, -6.1824, -6.2197, -6.2339, -6.2462, -4.9512, -6.2346, -5.5967, -6.2882, -4.3952, -3.9136, -3.5502, -3.6775, -4.9149, -4.5132, -4.759, -4.8741, -3.1361, -3.5746, -4.1504, -5.291, -4.3736, -3.1849, -5.1001, -3.21, -3.407, -2.4765, -4.4527, -5.0415, -4.8509, -4.2959, -5.083, -5.2076, -4.3692, -4.9948, -4.5757, -4.5491, -5.0607, -4.6226], \"loglift\": [30.0, 29.0, 28.0, 27.0, 26.0, 25.0, 24.0, 23.0, 22.0, 21.0, 20.0, 19.0, 18.0, 17.0, 16.0, 15.0, 14.0, 13.0, 12.0, 11.0, 10.0, 9.0, 8.0, 7.0, 6.0, 5.0, 4.0, 3.0, 2.0, 1.0, 1.6728, 1.6727, 1.6716, 1.6713, 1.6664, 1.6649, 1.6639, 1.6639, 1.6638, 1.6634, 1.662, 1.6578, 1.6578, 1.6577, 1.6567, 1.6549, 1.654, 1.6531, 1.6525, 1.6504, 1.6498, 1.6488, 1.6481, 1.6479, 1.6472, 1.6469, 1.6465, 1.6456, 1.6435, 1.6427, 1.6425, 1.36, 1.5967, 1.515, 1.3131, 1.3704, 1.3675, 1.1679, 1.4443, 1.4404, 1.2442, 1.3708, 1.1661, 1.3262, 1.297, 1.2261, 0.6516, 1.1663, 0.9275, 0.4999, 0.4998, 1.1398, 1.0867, 0.6394, 0.7989, 0.9378, 0.4248, 0.1806, 0.1282, 0.4266, -2.4307, 1.7129, 1.7084, 1.7046, 1.7041, 1.7038, 1.7011, 1.7003, 1.6998, 1.6982, 1.6975, 1.6965, 1.6949, 1.6937, 1.692, 1.6917, 1.6913, 1.6911, 1.691, 1.6906, 1.69, 1.6895, 1.6858, 1.6848, 1.6847, 1.6844, 1.684, 1.6833, 1.6826, 1.6819, 1.6778, 1.6644, 1.6654, 1.5981, 1.607, 1.5548, 1.5082, 1.324, 1.4204, 1.3577, 1.31, 0.7912, 1.117, 0.5884, 1.1422, 1.4171, -0.6968, 0.4372, -0.0579, 0.3819, 0.8501, -0.0804, 0.4185, 0.5546, -0.6372, -0.6057, 0.1492, -0.6746, 0.6705, 1.7168, 1.711, 1.71, 1.706, 1.7024, 1.7022, 1.7003, 1.6976, 1.6958, 1.6957, 1.6941, 1.6919, 1.69, 1.6898, 1.6865, 1.6849, 1.6828, 1.682, 1.6801, 1.6801, 1.6799, 1.6777, 1.677, 1.6769, 1.6763, 1.6763, 1.672, 1.6719, 1.6708, 1.6703, 1.6039, 1.6024, 1.5986, 1.5834, 1.5314, 1.5297, 1.4827, 1.4865, 1.5136, 1.441, 0.915, 1.0343, 0.6667, 1.0981, 1.0644, 0.5989, 0.9914, 0.3289, -0.0108, -0.4676, 0.1439, 0.1942, 0.5255, 0.8564, 0.4625, -0.0206, -0.8645, 1.7976, 1.7973, 1.7967, 1.7921, 1.7902, 1.7897, 1.7895, 1.7875, 1.786, 1.7858, 1.7843, 1.7842, 1.7823, 1.7819, 1.7808, 1.7798, 1.7795, 1.7763, 1.7745, 1.7745, 1.7739, 1.7733, 1.7733, 1.7732, 1.7725, 1.7708, 1.7704, 1.7703, 1.7694, 1.7689, 1.7681, 1.7134, 1.7607, 1.7188, 1.6917, 1.685, 1.6563, 1.5732, 1.5145, 1.4432, 1.3952, 1.2941, 1.1494, 1.5895, 1.2683, 1.0889, 0.8173, 1.1162, 1.4171, 1.4857, 1.3971, 0.3713, -0.5143, 0.4348, 0.1815, -0.7991, 1.0019, -0.1292, 1.0634, 0.0976, 0.2355, 1.9002, 1.8941, 1.8914, 1.891, 1.8859, 1.8827, 1.8819, 1.8817, 1.8814, 1.881, 1.8807, 1.873, 1.8727, 1.8722, 1.8711, 1.8711, 1.8709, 1.8695, 1.8693, 1.8669, 1.8665, 1.8659, 1.8653, 1.8646, 1.8638, 1.8623, 1.859, 1.8587, 1.8587, 1.8575, 1.7818, 1.7198, 1.7332, 1.8433, 1.3153, 1.4884, 1.634, 1.6943, 1.5815, 1.4876, 1.2111, 1.4142, 1.0361, 1.2228, 1.4748, 1.4492, 1.0442, 0.9566, 1.1685, -0.0418, 0.5442, -0.2853, 0.3545, -1.2141, -0.7659, 0.6677, -0.6087, -0.7357, -1.0842, 1.9652, 1.9505, 1.9498, 1.9482, 1.946, 1.9456, 1.9451, 1.9451, 1.9444, 1.9432, 1.9428, 1.9398, 1.9393, 1.9384, 1.9382, 1.9374, 1.9369, 1.9363, 1.9363, 1.9324, 1.9317, 1.9312, 1.9294, 1.9281, 1.9275, 1.9271, 1.927, 1.9266, 1.9261, 1.9254, 1.8044, 1.7502, 1.7157, 1.7255, 1.7998, 1.7562, 1.7722, 1.678, 1.288, 1.3313, 1.4637, 1.7173, 1.3912, 0.7308, 1.5681, 0.6491, 0.7297, -0.0892, 1.1332, 1.4721, 1.2948, 0.7254, 1.3842, 1.459, -0.0286, 0.976, -0.0975, -0.4936, 0.9759, -1.466]}, \"token.table\": {\"Topic\": [2, 2, 6, 2, 4, 5, 4, 1, 2, 4, 5, 6, 1, 3, 5, 2, 5, 2, 1, 5, 3, 6, 6, 3, 1, 2, 3, 4, 5, 5, 5, 3, 6, 1, 4, 5, 1, 1, 2, 3, 4, 6, 3, 5, 2, 6, 3, 5, 6, 1, 2, 1, 1, 2, 3, 4, 5, 6, 6, 2, 1, 3, 4, 5, 6, 3, 3, 5, 6, 2, 6, 6, 3, 4, 6, 5, 5, 6, 2, 4, 2, 2, 3, 6, 2, 3, 4, 6, 3, 4, 5, 2, 4, 1, 1, 2, 5, 4, 2, 2, 3, 6, 4, 2, 6, 3, 6, 3, 5, 5, 2, 6, 1, 2, 3, 1, 2, 3, 4, 5, 6, 3, 3, 2, 6, 1, 3, 5, 4, 1, 1, 2, 5, 1, 2, 4, 5, 5, 5, 2, 3, 2, 2, 3, 4, 2, 3, 1, 1, 3, 5, 5, 6, 1, 2, 2, 2, 3, 6, 1, 2, 3, 3, 5, 1, 4, 5, 6, 1, 1, 1, 6, 3, 2, 1, 3, 4, 6, 1, 4, 6, 2, 5, 1, 3, 4, 6, 5, 4, 4, 3, 1, 4, 6, 4, 4, 2, 2, 5, 6, 6, 2, 3, 4, 4, 6, 4, 1, 2, 4, 5, 4, 1, 2, 4, 1, 2, 3, 4, 6, 4, 6, 5, 6, 5, 4, 2, 3, 3, 4, 3, 2, 1, 3, 1, 1, 2, 1, 2, 3, 4, 5, 6, 3, 6, 2, 3, 6, 6, 6, 6, 1, 6, 5, 6, 1, 2, 4, 5, 6, 1, 3, 4, 5, 6, 6, 1, 4, 5, 1, 2, 3, 4, 5, 6, 6, 2, 3, 2, 5, 1, 1, 4, 3, 5, 4, 5, 6, 4, 5, 6, 5, 1, 2, 3, 4, 6, 1, 2, 4, 5, 6, 1, 2, 3, 5, 2, 3, 4, 5, 6, 1, 4, 1, 1, 3, 4, 5, 6, 6, 5, 6, 1, 2, 4, 5, 6, 1, 2, 4, 6, 2, 1, 3, 5, 3, 2, 3, 4, 1, 5, 5, 3, 4, 1, 1, 2, 3, 4, 5, 6, 6, 1, 1, 2, 3, 4, 5, 6, 1, 3, 4, 6, 1, 6, 1, 4, 6, 2, 4, 5, 2, 2, 4, 2, 3, 1, 2, 4, 5, 6, 1, 1, 5, 1, 2, 3, 4, 6, 2, 1, 1, 3, 4, 5, 6, 1, 2, 3, 6, 1, 3, 4, 5, 6, 1, 3, 1, 5, 6, 4, 3, 1, 4, 6, 4, 4, 4, 4, 2, 5, 2, 4, 6, 2, 6, 4, 5, 2, 3, 1, 6, 4, 1, 2, 3, 4, 6, 1, 3, 4, 5, 2, 1, 4, 4, 3, 4, 1, 3, 6, 2, 3, 5, 6, 3, 1, 3, 6, 3, 6, 4, 5, 5, 6, 6, 1, 2, 3, 4, 1, 3, 4, 4, 1, 3, 1, 3, 4, 5, 6, 5, 2, 2, 3, 4, 5, 4, 5, 6, 5, 3, 5, 3, 4, 1, 2, 4, 6, 1, 2, 5, 6, 3, 4, 6, 2, 4, 4, 5, 6, 4, 1, 2, 3, 4, 5, 6, 1, 2, 4, 5, 4, 3, 4, 3, 4, 1, 2, 6, 1, 3, 5, 2, 3, 4, 5, 5, 1, 2, 4, 5, 6, 1, 3, 6, 4, 5, 5, 3, 2, 3, 1, 2, 3, 5, 1, 1, 2, 5, 6, 1, 5, 3, 2, 6, 2, 5], \"Freq\": [0.9740283209502605, 0.9705241633859468, 0.028600908547719454, 0.9874156382727023, 0.23500122727705086, 0.7637539886504153, 0.9718593298111579, 0.07851764730466268, 0.18647941234857388, 0.31897794217519215, 0.28953382443594367, 0.12268382391353544, 0.2537107787920408, 0.1268553893960204, 0.6122151401286201, 0.1794837870289884, 0.8076770416304478, 0.9797788616324299, 0.9893048931783543, 0.9807444497341624, 0.997891520612353, 0.9816530926406798, 0.9710819437607132, 0.985637423446556, 0.008042927269931707, 0.025916098980891058, 0.8912754959865062, 0.0741736626004813, 0.0002978861951826558, 0.9602075815765315, 0.9563137163834775, 0.9583289402617454, 0.9774500717269112, 0.19919932227115367, 0.7967972890846147, 0.9871280359629307, 0.9797447096808503, 0.9523408548394056, 0.026453912634427933, 0.9485508035848801, 0.9963660154786547, 0.9779355352249256, 0.164413440782241, 0.8320316548677045, 0.1478585550662746, 0.8449060289501406, 0.1391986190523114, 0.6341270423494186, 0.2242644418065017, 0.5986229690656208, 0.39561170129554074, 0.9630768202158535, 0.029131004988864072, 0.12623435495174432, 0.0019420669992576047, 0.5029953528077197, 0.04855167498144012, 0.2893679828893831, 0.9619648627649282, 0.9636679231444738, 0.7279188467514918, 0.1772402648766551, 0.018355952729161223, 0.044234836904699995, 0.03219814659049591, 0.9821827392011914, 0.2212077573531327, 0.2630578736091308, 0.5081799831085481, 0.9475756293776787, 0.04165167601660126, 0.9625398879601167, 0.0063788553236179555, 0.9185551666009856, 0.07654626388341547, 0.9312875233034861, 0.21247297494627607, 0.7790675748030123, 0.8929274245389025, 0.10582843550090697, 0.9880446180228295, 0.05767449036323095, 0.7930242424944255, 0.1470699504262389, 0.0020525275386846973, 0.8292211256286177, 0.12109912478239714, 0.04720813338974804, 0.8125466022715518, 0.12057143130481092, 0.06290683372424917, 0.968585013589188, 0.977728334651799, 0.9948770293494201, 0.24735272204439662, 0.7420581661331899, 0.9908687219379434, 0.982557047067692, 0.9535672718341686, 0.9747963652003011, 0.02487204499916615, 0.9575737324678968, 0.9939191401248462, 0.24235522419399097, 0.7450179114111575, 0.9731212174390018, 0.9455035436912331, 0.9940228766734346, 0.9931529663502897, 0.9700383998374207, 0.9844389147210136, 0.009073169720931001, 0.03690603690362497, 0.6695809552514816, 0.28997600424276765, 0.04896473711742696, 0.39671429868609187, 0.34874884191800015, 0.03297625152806306, 0.1428970899549399, 0.028979130130722078, 0.9799981153333801, 0.9811971060418765, 0.9505755354041221, 0.046942001748351704, 0.8522512528961887, 0.05877594847559922, 0.08816392271339883, 0.9713175045900266, 0.9892066472772889, 0.2854506810734207, 0.6773789971504189, 0.036247705533132786, 0.7362791282874506, 0.002648486072976441, 0.11123641506501052, 0.1483152200866807, 0.9507043311310218, 0.9644477779921709, 0.12444406794863688, 0.8711084756404582, 0.9735612347769267, 0.014263446999049969, 0.9841778429344478, 0.9707808425260587, 0.8507006839949812, 0.14349168163770767, 0.9708546868208545, 0.7880840791695584, 0.0525389386113039, 0.15761681583391168, 0.9514954286638252, 0.97389004164332, 0.9852406933625054, 0.01123848699653048, 0.9889269290745474, 0.9913961302515697, 0.889500255794758, 0.11032561312183045, 0.16176703326067882, 0.35049523873147076, 0.4814495037520203, 0.9703687771570692, 0.013667165875451678, 0.3080273547009103, 0.14555138738614443, 0.4197295822298118, 0.12637019680037345, 0.9802296915658519, 0.9713608419953558, 0.9667929770425867, 0.9535922557389306, 0.9732664244338275, 0.967965133255326, 0.993379294017262, 0.14633072874200007, 0.7316536437100003, 0.11189996903800005, 0.3343856096725212, 0.4490321044173856, 0.21496217764662076, 0.042170751808973235, 0.9277565397974111, 0.32399100141310627, 0.4220409097354937, 0.07247167136872114, 0.17904765867566397, 0.9562761197192584, 0.9931675351754097, 0.9712907586875668, 0.9481888292196693, 0.9802115310131846, 0.8666406939774535, 0.12682546741133466, 0.9581527976335368, 0.9712587467898504, 0.9772423536925358, 0.012254345946249011, 0.4248173261366324, 0.5636999135274545, 0.9828334885943354, 0.7447767052832752, 0.12872683795019574, 0.12412945088054587, 0.14511009468073677, 0.8517331644304115, 0.9619634037799764, 0.973749424537902, 0.9758855616851351, 0.6700753629610584, 0.3313559487170069, 0.9879393286805475, 0.13793456367916274, 0.273406010149769, 0.5862218956364417, 0.0017303885392189653, 0.11074486651001378, 0.1747692424611155, 0.18169079661799137, 0.5294988930010034, 0.9886811449368834, 0.985828032675188, 0.7281426636069, 0.2719568984555892, 0.9548635833796814, 0.9845826003683675, 0.20983058506404914, 0.7888075697778144, 0.8883145728221805, 0.10728436869833098, 0.937926266456095, 0.9756784144362801, 0.9656590539983337, 0.9480274078634423, 0.9928863941314203, 0.956108670165648, 0.9682897150948258, 0.023784386103054556, 0.1697048089515244, 0.2069884412211775, 0.23912950352260257, 0.06942469457107817, 0.29055520320488265, 0.9775021237472955, 0.981195401369725, 0.007151560051438531, 0.007151560051438531, 0.9797637270470787, 0.984785117073277, 0.9655038060497738, 0.981652529222232, 0.1670179811790472, 0.8262994858331809, 0.979200879504152, 0.9421951005256258, 0.9826321414779611, 0.16566813393002847, 0.2543807475828824, 0.07161138692459296, 0.5076926684952485, 0.11972056197422393, 0.8274021060885253, 0.03458594012588691, 0.0026604569327605314, 0.01596274159656319, 0.9775097597845299, 0.2939870563202193, 0.47703560082148794, 0.2274239492288489, 0.0032271459072412993, 0.31303315300240603, 0.22267306759964964, 0.12585869038241065, 0.16781158717654757, 0.16458444126930627, 0.9747391543702315, 0.023448683952782594, 0.9692122700483473, 0.971650692936629, 0.9651717279822905, 0.9854122240767293, 0.7026044836791837, 0.29521196793243015, 0.9799258512742822, 0.9737484022039424, 0.29235911629369915, 0.030244046513141293, 0.6754503721268222, 0.6815675960746058, 0.115866491332683, 0.20447027882238175, 0.9507110596232007, 0.6005940861181712, 0.09802950263082229, 0.07580948203450256, 0.198019595314261, 0.027448260736630238, 0.6003981549138341, 0.042318812681151306, 0.20894913761318457, 0.10050718011773435, 0.04760866426629522, 0.21206523447217648, 0.2630884487812716, 0.023917131707388326, 0.5006652904079956, 0.03071443485893238, 0.30373163360499794, 0.6023441947335072, 0.06142886971786476, 0.00170635749216291, 0.06822071892143555, 0.9141576335472364, 0.9930034876235078, 0.38731081111415067, 0.024987794265429075, 0.008329264755143026, 0.38731081111415067, 0.1915730893682896, 0.9791667959027844, 0.9758037988661596, 0.9976415636598343, 0.046506392286683976, 0.09140911587382712, 0.5211923273507687, 0.05051556403553604, 0.29026403461688965, 0.34545345613531064, 0.008636336403382766, 0.034545345613531064, 0.6131798846401764, 0.9583117101199613, 0.9605150639520069, 0.10578644923607841, 0.8886061735830587, 0.9825406923490303, 0.15835192569331696, 0.1401803932367068, 0.6983060329754469, 0.9906733537254776, 0.9777381133992824, 0.9642497613018858, 0.9864903912565701, 0.9712834764563967, 0.9653433880493829, 0.35827514968287294, 0.034223297880155025, 0.44811130661827986, 0.043848600408948626, 0.11229519616925868, 0.004277912235019378, 0.9423281208110836, 0.9743990768636712, 0.016450230964375975, 0.08963981788215045, 0.11236344201090709, 0.09870138578625585, 0.5548467732052236, 0.12797722055336563, 0.5830570348386961, 0.1144317545010525, 0.1471265415013532, 0.1580248038347868, 0.9669507681960616, 0.016964048564843185, 0.6854716680782801, 0.30591297583658783, 0.00566505510808496, 0.548952967836127, 0.23749029104967195, 0.21023730683085715, 0.9864099846302, 0.9948740518147586, 0.97214687258008, 0.9830364231611328, 0.008474451923802868, 0.3079410151583059, 0.0053461981798317, 0.00213847927193268, 0.6597208553912317, 0.024592511627225817, 0.9746391967819706, 0.9299728735725599, 0.06888687952389332, 0.013972482170671771, 0.09537737829545513, 0.24907468217284462, 0.37361202325926696, 0.26790715814201094, 0.9849783488332587, 0.9629447040395789, 0.6467768644417579, 0.2001928389938774, 0.05851790678282571, 0.012319559322700149, 0.08007713559755096, 0.003588230012270349, 0.9858661958712786, 0.00044852875153379365, 0.00986763253374346, 0.6942082883397831, 0.21735594970382985, 0.001478611902747142, 0.000739305951373571, 0.08575949035933422, 0.47537238856923475, 0.5215250476536264, 0.35322682036553843, 0.5068036987853377, 0.1382191905778194, 0.9899939651652979, 0.9579591173716812, 0.9801846097658461, 0.9644998960065893, 0.979325745304823, 0.9602437828072216, 0.990099979797273, 0.9831569212573003, 0.985494773471116, 0.5152973221829007, 0.4820523336549716, 0.6982055786823783, 0.06395776293273694, 0.22918198384230737, 0.900317817331918, 0.0900317817331918, 0.9890351911516365, 0.9748947254730166, 0.9940151436538245, 0.004945348973402112, 0.9707023503366504, 0.984392154565899, 0.980083068926763, 0.22296414236731704, 0.27911807451908577, 0.0066063449590316155, 0.4905211132080975, 0.9774104227829011, 0.55379607864564, 0.13131247225618267, 0.11418475848363711, 0.19982332734636493, 0.9983392855085351, 0.18152091321671937, 0.8115052590865102, 0.971300379840752, 0.09675364233171195, 0.8971701379849654, 0.14017156662747057, 0.2968339057993495, 0.5606862665098823, 0.007384798697213568, 0.10338718176098995, 0.08123278566934924, 0.8049430579962789, 0.9429602010335821, 0.9663916254808038, 0.3925379622306964, 0.6039045572779945, 0.9788794446694816, 0.9821066289245695, 0.3415543511774324, 0.6527483155835374, 0.21334773232179194, 0.7851196549441943, 0.9744259216988104, 0.47250872158222457, 0.13581089003560945, 0.28576874778326156, 0.10751695461152415, 0.2856476474585077, 0.04632124012840665, 0.6665111774031847, 0.9839283422596885, 0.7946689024366895, 0.2006739652617903, 0.4167139150378816, 0.010247063484538072, 0.09222357136084265, 0.047819629594511005, 0.43379235417877837, 0.9615561022996277, 0.9688141485869274, 0.5659919315501067, 0.27144511002913285, 0.16171198044288765, 0.9314575231316783, 0.2679059005694931, 0.6581166687902764, 0.06988849580073732, 0.9314790987200723, 0.9848972604579045, 0.983225333217126, 0.9934546579954685, 0.9963007261908082, 0.17567768712527707, 0.421626449100665, 0.025096812446468154, 0.37143282420772866, 0.13936683119421062, 0.3859389171531986, 0.10184499202653853, 0.369858128938482, 0.9800125543661347, 0.991549687970072, 0.987539845235435, 0.8120102012562372, 0.1787912369738504, 0.7520505704080896, 0.15720831132824473, 0.08922633886197673, 0.9825370946854185, 0.10225625763867284, 0.3244669713534811, 0.3264334378465325, 0.02949699739577101, 0.08062512621510742, 0.13568618802054666, 0.7376669311115682, 0.12181655743126815, 0.13535173047918683, 0.9605242567070349, 0.9585174395212526, 0.7573771005586819, 0.23957847058488918, 0.014512634020166138, 0.9723464793511312, 0.12153493839763647, 0.09921219461031548, 0.7788157276909765, 0.3452785892458004, 0.5354320152072557, 0.11509286308193346, 0.09375060776067502, 0.5039095167136283, 0.1464853246260547, 0.2578141713418563, 0.996881698890758, 0.6365052983881377, 0.03585945343031762, 0.06275404350305584, 0.16136754043642929, 0.10309592861216316, 0.013531833652982016, 0.16914792066227521, 0.8119100191789209, 0.8924451155250009, 0.10431176674967543, 0.9722914974095788, 0.957411926249024, 0.978855217183351, 0.9379324932849753, 0.7332236819157056, 0.2652085657992978, 0.968437834308705, 0.9692336613509882, 0.9864874689184776, 0.16511242681698163, 0.11593000180766795, 0.11241697144985983, 0.6042412215429965, 0.14502856750484924, 0.839093854849485, 0.9481068017499746, 0.023696047551622863, 0.9715379496165374, 0.9832353503753097, 0.9784774762341575], \"Term\": [\"alarm\", \"amazon\", \"amazon\", \"amount\", \"android\", \"android\", \"anyone\", \"app\", \"app\", \"app\", \"app\", \"app\", \"apps\", \"apps\", \"apps\", \"atmos\", \"atmos\", \"atom\", \"average\", \"awesome\", \"backup\", \"bahut\", \"bar\", \"batter\", \"battery\", \"battery\", \"battery\", \"battery\", \"battery\", \"battry\", \"bed\", \"bettry\", \"bill\", \"bit\", \"bit\", \"bluetooth\", \"blur\", \"bokeh\", \"bokeh\", \"bottom\", \"box\", \"bt\", \"budget\", \"budget\", \"bug\", \"bug\", \"button\", \"button\", \"button\", \"buy\", \"buy\", \"buying\", \"call\", \"call\", \"call\", \"call\", \"call\", \"call\", \"caller\", \"camara\", \"camera\", \"camera\", \"camera\", \"camera\", \"camera\", \"capacity\", \"card\", \"card\", \"card\", \"care\", \"care\", \"cash\", \"cast\", \"cast\", \"cast\", \"category\", \"cell\", \"cell\", \"center\", \"center\", \"centre\", \"charge\", \"charge\", \"charge\", \"charger\", \"charger\", \"charger\", \"charger\", \"charging\", \"charging\", \"charging\", \"china\", \"choice\", \"clarity\", \"class\", \"class\", \"color\", \"colour\", \"comparison\", \"complain\", \"connection\", \"connection\", \"connectivity\", \"contact\", \"contact\", \"cool\", \"copy\", \"core\", \"cost\", \"coverage\", \"customer\", \"customer\", \"data\", \"data\", \"data\", \"day\", \"day\", \"day\", \"day\", \"day\", \"day\", \"deca\", \"default\", \"delivery\", \"delivery\", \"depth\", \"depth\", \"depth\", \"description\", \"design\", \"device\", \"device\", \"device\", \"display\", \"display\", \"display\", \"display\", \"doesnt\", \"doubt\", \"drain\", \"drain\", \"drainage\", \"draining\", \"draining\", \"drop\", \"earphone\", \"earphone\", \"edge\", \"effect\", \"effect\", \"effect\", \"effort\", \"ek\", \"everything\", \"everything\", \"excellent\", \"exchange\", \"expectation\", \"expectation\", \"experience\", \"experience\", \"experience\", \"fast\", \"fast\", \"feature\", \"feature\", \"feature\", \"feature\", \"feel\", \"file\", \"fine\", \"fire\", \"fone\", \"friend\", \"front\", \"gallery\", \"gallery\", \"gallery\", \"game\", \"game\", \"game\", \"gaya\", \"gaya\", \"gb\", \"gb\", \"gb\", \"gb\", \"gd\", \"glass\", \"go\", \"gold\", \"google\", \"gorilla\", \"gorilla\", \"gr\", \"guard\", \"gud\", \"hai\", \"hai\", \"hai\", \"half\", \"handset\", \"handset\", \"handset\", \"hang\", \"hang\", \"hanging\", \"hd\", \"head\", \"headphone\", \"headphone\", \"headset\", \"heat\", \"heat\", \"heat\", \"heating\", \"heating\", \"heating\", \"heating\", \"heating\", \"hell\", \"hi\", \"ho\", \"ho\", \"home\", \"hotspot\", \"hour\", \"hour\", \"hr\", \"hr\", \"iam\", \"id\", \"idea\", \"im\", \"image\", \"information\", \"invoice\", \"issue\", \"issue\", \"issue\", \"issue\", \"issue\", \"issue\", \"jack\", \"jata\", \"jio\", \"jio\", \"jio\", \"ka\", \"kar\", \"ki\", \"killer\", \"killer\", \"ko\", \"koi\", \"lack\", \"lenovo\", \"lenovo\", \"lenovo\", \"lenovo\", \"life\", \"life\", \"life\", \"life\", \"life\", \"list\", \"look\", \"look\", \"look\", \"lot\", \"lot\", \"lot\", \"lot\", \"lot\", \"lot\", \"lte\", \"mah\", \"mah\", \"mail\", \"maine\", \"management\", \"mark\", \"mark\", \"mast\", \"mediatek\", \"message\", \"message\", \"message\", \"min\", \"min\", \"min\", \"mob\", \"mobile\", \"mobile\", \"mobile\", \"mobile\", \"mobile\", \"mode\", \"mode\", \"mode\", \"mode\", \"mode\", \"money\", \"money\", \"money\", \"money\", \"month\", \"month\", \"month\", \"month\", \"month\", \"moto\", \"moto\", \"mp\", \"music\", \"music\", \"music\", \"music\", \"music\", \"nahi\", \"nd\", \"network\", \"note\", \"note\", \"note\", \"note\", \"note\", \"nothing\", \"nothing\", \"nothing\", \"nothing\", \"oct\", \"office\", \"ok\", \"ok\", \"operation\", \"option\", \"option\", \"option\", \"others\", \"output\", \"package\", \"pc\", \"percentage\", \"perfect\", \"performance\", \"performance\", \"performance\", \"performance\", \"performance\", \"performance\", \"ph\", \"phn\", \"phone\", \"phone\", \"phone\", \"phone\", \"phone\", \"phone\", \"photo\", \"photo\", \"photo\", \"photo\", \"pic\", \"pic\", \"picture\", \"picture\", \"picture\", \"please\", \"please\", \"please\", \"pls\", \"plz\", \"pocket\", \"policy\", \"policy\", \"price\", \"price\", \"price\", \"price\", \"price\", \"print\", \"pro\", \"pro\", \"problem\", \"problem\", \"problem\", \"problem\", \"problem\", \"process\", \"processing\", \"processor\", \"processor\", \"processor\", \"processor\", \"processor\", \"product\", \"product\", \"product\", \"product\", \"quality\", \"quality\", \"quality\", \"quality\", \"quality\", \"ram\", \"ram\", \"range\", \"range\", \"range\", \"rate\", \"rd\", \"rear\", \"reason\", \"reception\", \"record\", \"recorder\", \"recording\", \"redmi\", \"refund\", \"refund\", \"replacement\", \"replacement\", \"replacement\", \"request\", \"request\", \"rest\", \"restart\", \"return\", \"return\", \"rom\", \"samsung\", \"scratch\", \"screen\", \"screen\", \"screen\", \"screen\", \"se\", \"sensor\", \"sensor\", \"sensor\", \"sensor\", \"service\", \"set\", \"set\", \"setting\", \"side\", \"side\", \"signal\", \"signal\", \"signal\", \"sim\", \"sim\", \"sim\", \"sim\", \"sims\", \"size\", \"slot\", \"slot\", \"sm\", \"smart\", \"smartphone\", \"smartphone\", \"software\", \"software\", \"something\", \"sound\", \"sound\", \"sound\", \"sound\", \"speaker\", \"speaker\", \"speaker\", \"spec\", \"specification\", \"specification\", \"speed\", \"speed\", \"speed\", \"speed\", \"speed\", \"spent\", \"split\", \"star\", \"star\", \"star\", \"status\", \"stock\", \"stock\", \"stock\", \"stop\", \"storage\", \"suck\", \"super\", \"superb\", \"support\", \"support\", \"support\", \"support\", \"system\", \"system\", \"system\", \"system\", \"technology\", \"term\", \"thank\", \"thanks\", \"thanks\", \"thing\", \"thing\", \"thing\", \"think\", \"time\", \"time\", \"time\", \"time\", \"time\", \"time\", \"touch\", \"touch\", \"touch\", \"tray\", \"try\", \"turbo\", \"turbo\", \"tv\", \"tv\", \"update\", \"update\", \"update\", \"usage\", \"usage\", \"usage\", \"use\", \"use\", \"use\", \"use\", \"value\", \"video\", \"video\", \"video\", \"video\", \"video\", \"volta\", \"volta\", \"volta\", \"volume\", \"volume\", \"vr\", \"warm\", \"warranty\", \"wastage\", \"waste\", \"waste\", \"wire\", \"wise\", \"word\", \"work\", \"work\", \"work\", \"work\", \"worth\", \"worth\", \"wrost\", \"ye\", \"ye\", \"yesterday\", \"zoom\"]}, \"R\": 30, \"lambda.step\": 0.01, \"plot.opts\": {\"xlab\": \"PC1\", \"ylab\": \"PC2\"}, \"topic.order\": [5, 3, 1, 2, 4, 6]};\n",
       "\n",
       "function LDAvis_load_lib(url, callback){\n",
       "  var s = document.createElement('script');\n",
       "  s.src = url;\n",
       "  s.async = true;\n",
       "  s.onreadystatechange = s.onload = callback;\n",
       "  s.onerror = function(){console.warn(\"failed to load library \" + url);};\n",
       "  document.getElementsByTagName(\"head\")[0].appendChild(s);\n",
       "}\n",
       "\n",
       "if(typeof(LDAvis) !== \"undefined\"){\n",
       "   // already loaded: just create the visualization\n",
       "   !function(LDAvis){\n",
       "       new LDAvis(\"#\" + \"ldavis_el1870829670125699361711747413\", ldavis_el1870829670125699361711747413_data);\n",
       "   }(LDAvis);\n",
       "}else if(typeof define === \"function\" && define.amd){\n",
       "   // require.js is available: use it to load d3/LDAvis\n",
       "   require.config({paths: {d3: \"https://d3js.org/d3.v5\"}});\n",
       "   require([\"d3\"], function(d3){\n",
       "      window.d3 = d3;\n",
       "      LDAvis_load_lib(\"https://cdn.jsdelivr.net/gh/bmabey/pyLDAvis@3.3.1/pyLDAvis/js/ldavis.v3.0.0.js\", function(){\n",
       "        new LDAvis(\"#\" + \"ldavis_el1870829670125699361711747413\", ldavis_el1870829670125699361711747413_data);\n",
       "      });\n",
       "    });\n",
       "}else{\n",
       "    // require.js not available: dynamically load d3 & LDAvis\n",
       "    LDAvis_load_lib(\"https://d3js.org/d3.v5.js\", function(){\n",
       "         LDAvis_load_lib(\"https://cdn.jsdelivr.net/gh/bmabey/pyLDAvis@3.3.1/pyLDAvis/js/ldavis.v3.0.0.js\", function(){\n",
       "                 new LDAvis(\"#\" + \"ldavis_el1870829670125699361711747413\", ldavis_el1870829670125699361711747413_data);\n",
       "            })\n",
       "         });\n",
       "}\n",
       "</script>"
      ],
      "text/plain": [
       "PreparedData(topic_coordinates=              x         y  topics  cluster       Freq\n",
       "topic                                                \n",
       "4     -0.271748  0.006523       1        1  18.679571\n",
       "2      0.188344 -0.170740       2        1  18.004661\n",
       "0     -0.115170 -0.159596       3        1  17.927736\n",
       "1      0.074820 -0.037161       4        1  16.503472\n",
       "3      0.022926  0.231910       5        1  14.894179\n",
       "5      0.100828  0.129065       6        1  13.990381, topic_info=        Term         Freq        Total Category  logprob  loglift\n",
       "4    battery  3356.000000  3356.000000  Default  30.0000  30.0000\n",
       "15     phone  7173.000000  7173.000000  Default  29.0000  29.0000\n",
       "46   product  2229.000000  2229.000000  Default  28.0000  28.0000\n",
       "53    camera  3323.000000  3323.000000  Default  27.0000  27.0000\n",
       "81   quality  1352.000000  1352.000000  Default  26.0000  26.0000\n",
       "..       ...          ...          ...      ...      ...      ...\n",
       "198  support    73.971476   199.228488   Topic6  -4.9948   0.9760\n",
       "54   feature   112.481137   886.284922   Topic6  -4.5757  -0.0975\n",
       "81   quality   115.513429  1352.619978   Topic6  -4.5491  -0.4936\n",
       "116   system    69.258542   186.558019   Topic6  -5.0607   0.9759\n",
       "53    camera   107.329702  3323.172646   Topic6  -4.6226  -1.4660\n",
       "\n",
       "[386 rows x 6 columns], token_table=      Topic      Freq       Term\n",
       "term                            \n",
       "865       2  0.974028      alarm\n",
       "2         2  0.970524     amazon\n",
       "2         6  0.028601     amazon\n",
       "289       2  0.987416     amount\n",
       "153       4  0.235001    android\n",
       "...     ...       ...        ...\n",
       "29        3  0.948107      wrost\n",
       "246       2  0.023696         ye\n",
       "246       6  0.971538         ye\n",
       "682       2  0.983235  yesterday\n",
       "296       5  0.978477       zoom\n",
       "\n",
       "[568 rows x 3 columns], R=30, lambda_step=0.01, plot_opts={'xlab': 'PC1', 'ylab': 'PC2'}, topic_order=[5, 3, 1, 2, 4, 6])"
      ]
     },
     "execution_count": 28,
     "metadata": {},
     "output_type": "execute_result"
    }
   ],
   "source": [
    "LDAvis_prepared"
   ]
  },
  {
   "cell_type": "code",
   "execution_count": 26,
   "id": "dbbc7d73",
   "metadata": {},
   "outputs": [],
   "source": [
    "pyLDAvis.save_html(LDAvis_prepared, 'LDA_model_visualisation'+'.html')"
   ]
  },
  {
   "cell_type": "markdown",
   "id": "d4df4caf",
   "metadata": {},
   "source": [
    "#### The business should  be able to interpret the topics.\n",
    "1.\tName each of the identified topics.\n",
    "2.\tCreate a table with the topic name and the top 10 terms in each to present to the  business."
   ]
  },
  {
   "cell_type": "code",
   "execution_count": 29,
   "id": "18a2f127",
   "metadata": {},
   "outputs": [
    {
     "data": {
      "text/html": [
       "<div>\n",
       "<style scoped>\n",
       "    .dataframe tbody tr th:only-of-type {\n",
       "        vertical-align: middle;\n",
       "    }\n",
       "\n",
       "    .dataframe tbody tr th {\n",
       "        vertical-align: top;\n",
       "    }\n",
       "\n",
       "    .dataframe thead th {\n",
       "        text-align: right;\n",
       "    }\n",
       "</style>\n",
       "<table border=\"1\" class=\"dataframe\">\n",
       "  <thead>\n",
       "    <tr style=\"text-align: right;\">\n",
       "      <th></th>\n",
       "      <th>Topic_1</th>\n",
       "      <th>Topic_2</th>\n",
       "      <th>Topic_3</th>\n",
       "      <th>Topic_4</th>\n",
       "      <th>Topic_5</th>\n",
       "      <th>Topic_6</th>\n",
       "    </tr>\n",
       "  </thead>\n",
       "  <tbody>\n",
       "    <tr>\n",
       "      <th>Word_1</th>\n",
       "      <td>battery</td>\n",
       "      <td>phone</td>\n",
       "      <td>product</td>\n",
       "      <td>phone</td>\n",
       "      <td>camera</td>\n",
       "      <td>phone</td>\n",
       "    </tr>\n",
       "    <tr>\n",
       "      <th>Word_2</th>\n",
       "      <td>phone</td>\n",
       "      <td>note</td>\n",
       "      <td>phone</td>\n",
       "      <td>price</td>\n",
       "      <td>quality</td>\n",
       "      <td>network</td>\n",
       "    </tr>\n",
       "    <tr>\n",
       "      <th>Word_3</th>\n",
       "      <td>camera</td>\n",
       "      <td>problem</td>\n",
       "      <td>service</td>\n",
       "      <td>feature</td>\n",
       "      <td>mobile</td>\n",
       "      <td>lenovo</td>\n",
       "    </tr>\n",
       "    <tr>\n",
       "      <th>Word_4</th>\n",
       "      <td>backup</td>\n",
       "      <td>issue</td>\n",
       "      <td>amazon</td>\n",
       "      <td>money</td>\n",
       "      <td>performance</td>\n",
       "      <td>issue</td>\n",
       "    </tr>\n",
       "    <tr>\n",
       "      <th>Word_5</th>\n",
       "      <td>performance</td>\n",
       "      <td>month</td>\n",
       "      <td>day</td>\n",
       "      <td>value</td>\n",
       "      <td>price</td>\n",
       "      <td>problem</td>\n",
       "    </tr>\n",
       "    <tr>\n",
       "      <th>Word_6</th>\n",
       "      <td>problem</td>\n",
       "      <td>mobile</td>\n",
       "      <td>time</td>\n",
       "      <td>range</td>\n",
       "      <td>display</td>\n",
       "      <td>note</td>\n",
       "    </tr>\n",
       "    <tr>\n",
       "      <th>Word_7</th>\n",
       "      <td>hour</td>\n",
       "      <td>screen</td>\n",
       "      <td>device</td>\n",
       "      <td>budget</td>\n",
       "      <td>feature</td>\n",
       "      <td>update</td>\n",
       "    </tr>\n",
       "    <tr>\n",
       "      <th>Word_8</th>\n",
       "      <td>charger</td>\n",
       "      <td>option</td>\n",
       "      <td>issue</td>\n",
       "      <td>android</td>\n",
       "      <td>everything</td>\n",
       "      <td>heating</td>\n",
       "    </tr>\n",
       "    <tr>\n",
       "      <th>Word_9</th>\n",
       "      <td>day</td>\n",
       "      <td>call</td>\n",
       "      <td>delivery</td>\n",
       "      <td>camera</td>\n",
       "      <td>waste</td>\n",
       "      <td>software</td>\n",
       "    </tr>\n",
       "    <tr>\n",
       "      <th>Word_10</th>\n",
       "      <td>time</td>\n",
       "      <td>speaker</td>\n",
       "      <td>customer</td>\n",
       "      <td>day</td>\n",
       "      <td>mode</td>\n",
       "      <td>sim</td>\n",
       "    </tr>\n",
       "  </tbody>\n",
       "</table>\n",
       "</div>"
      ],
      "text/plain": [
       "             Topic_1  Topic_2   Topic_3  Topic_4      Topic_5   Topic_6\n",
       "Word_1       battery    phone   product    phone       camera     phone\n",
       "Word_2         phone     note     phone    price      quality   network\n",
       "Word_3        camera  problem   service  feature       mobile    lenovo\n",
       "Word_4        backup    issue    amazon    money  performance     issue\n",
       "Word_5   performance    month       day    value        price   problem\n",
       "Word_6       problem   mobile      time    range      display      note\n",
       "Word_7          hour   screen    device   budget      feature    update\n",
       "Word_8       charger   option     issue  android   everything   heating\n",
       "Word_9           day     call  delivery   camera        waste  software\n",
       "Word_10         time  speaker  customer      day         mode       sim"
      ]
     },
     "execution_count": 29,
     "metadata": {},
     "output_type": "execute_result"
    }
   ],
   "source": [
    "topic_words = {}\n",
    "\n",
    "for idx, topic in lda_model.print_topics(-1): \n",
    "    temp = []\n",
    "    for item in topic.split('+'):\n",
    "        item_alpha = [letter for letter in item if letter.isalpha()]\n",
    "        temp.append(\"\".join(item_alpha))    \n",
    "    topic_words[('Topic_'+str(idx+1))] = temp\n",
    "\n",
    "topic_table = pd.DataFrame(topic_words)    \n",
    "topic_table.index = ['Word_'+str(i+1) for i in range(topic_table.shape[0])]\n",
    "topic_table"
   ]
  },
  {
   "cell_type": "markdown",
   "id": "8ce088aa",
   "metadata": {},
   "source": [
    "#### Topics according to above table:\n",
    "- Topic 1: Battery Charging Time and Backup\n",
    "- Topic 2: Screen and Speaker\n",
    "- Topic 3: Overall Service including delivery etc.\n",
    "- Topic 4: Price, features and Value for Money\n",
    "- Topic 5: Camera Quality & Mobile Performance\n",
    "- Topic 6: Hardware and Software Issues"
   ]
  }
 ],
 "metadata": {
  "kernelspec": {
   "display_name": "Python 3.8.8 ('base')",
   "language": "python",
   "name": "python3"
  },
  "language_info": {
   "codemirror_mode": {
    "name": "ipython",
    "version": 3
   },
   "file_extension": ".py",
   "mimetype": "text/x-python",
   "name": "python",
   "nbconvert_exporter": "python",
   "pygments_lexer": "ipython3",
   "version": "3.8.8"
  },
  "vscode": {
   "interpreter": {
    "hash": "40a9731cf7deda1a633a130f55dc54dfab29983b34b8d96c83f6c93bbaf9f520"
   }
  }
 },
 "nbformat": 4,
 "nbformat_minor": 5
}
